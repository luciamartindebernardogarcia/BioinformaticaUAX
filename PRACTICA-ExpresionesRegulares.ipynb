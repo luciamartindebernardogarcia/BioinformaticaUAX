{
 "cells": [
  {
   "cell_type": "markdown",
   "metadata": {},
   "source": [
    "# PRACTICA Expresiones Regulares\n",
    "\n",
    "#### Esta práctica se entrega el día 22 de Octubre a las 23:59\n",
    "#### Cuenta el 5% de la nota\n",
    "\n",
    "#### De la lista de accessions que se proporciona obtén lo siguiente:\n",
    "1. Los que tengan el número 5\n",
    "2. Los que tengan la letra 'd' o la 'e'\n",
    "3. Los que tengan las letras 'd' y 'e' en ese orden\n",
    "4. Los que tengan las letras 'd' y 'e' en ese orden con una letra cualquiera en medio\n",
    "5. Los que tengan ambas letras 'd' y 'e' en cualquier orden\n",
    "6. Los que empiezan por 'x' o por 'y'\n",
    "7. Los que empiezan por 'x' o 'y' y terminan por 'e'\n",
    "8. Los que tienen tres o más dígitos seguidos\n",
    "9. Los que terminan con 'd' seguidos de 'a' o 'r' o 'p'"
   ]
  },
  {
   "cell_type": "code",
   "execution_count": 1,
   "metadata": {},
   "outputs": [],
   "source": [
    "import re #Llamamos a los módulos y patrones"
   ]
  },
  {
   "cell_type": "code",
   "execution_count": 4,
   "metadata": {},
   "outputs": [],
   "source": [
    "accs = ['xkn59438', 'yhdck2', 'eihd39d9', 'chdsye847', 'hedle3455', 'xjhd53e', '45da', 'de37dp']"
   ]
  },
  {
   "cell_type": "code",
   "execution_count": 2,
   "metadata": {},
   "outputs": [
    {
     "ename": "NameError",
     "evalue": "name 'accs' is not defined",
     "output_type": "error",
     "traceback": [
      "\u001b[1;31m---------------------------------------------------------------------------\u001b[0m",
      "\u001b[1;31mNameError\u001b[0m                                 Traceback (most recent call last)",
      "Cell \u001b[1;32mIn[2], line 1\u001b[0m\n\u001b[1;32m----> 1\u001b[0m re\u001b[38;5;241m.\u001b[39msearch(\u001b[38;5;124mr\u001b[39m\u001b[38;5;124m\"\u001b[39m\u001b[38;5;124m5\u001b[39m\u001b[38;5;124m\"\u001b[39m,accs)\n",
      "\u001b[1;31mNameError\u001b[0m: name 'accs' is not defined"
     ]
    }
   ],
   "source": [
    "re.search(r\"5\",accs) #Sirve para buscar las expresiones regulares "
   ]
  },
  {
   "cell_type": "code",
   "execution_count": 6,
   "metadata": {},
   "outputs": [
    {
     "name": "stdout",
     "output_type": "stream",
     "text": [
      "xkn59438\n",
      "hedle3455\n",
      "xjhd53e\n",
      "45da\n"
     ]
    }
   ],
   "source": [
    "for elemento in accs:\n",
    "    if re.search(r\"5\",elemento):\n",
    "        print(elemento)"
   ]
  },
  {
   "cell_type": "code",
   "execution_count": 7,
   "metadata": {
    "scrolled": true
   },
   "outputs": [
    {
     "name": "stdout",
     "output_type": "stream",
     "text": [
      "\txkn59438\n",
      "\thedle3455\n",
      "\txjhd53e\n",
      "\t45da\n"
     ]
    }
   ],
   "source": [
    "for elemento in accs: #Ponemos un tabulador\n",
    "    if re.search(r\"5\",elemento):\n",
    "        print(\"\\t\" + elemento)"
   ]
  },
  {
   "cell_type": "code",
   "execution_count": 9,
   "metadata": {
    "scrolled": true
   },
   "outputs": [
    {
     "name": "stdout",
     "output_type": "stream",
     "text": [
      "contains d or e:\n",
      "\tyhdck2\n",
      "\teihd39d9\n",
      "\tchdsye847\n",
      "\thedle3455\n",
      "\txjhd53e\n",
      "\t45da\n",
      "\tde37dp\n"
     ]
    }
   ],
   "source": [
    "print(\"contains d or e:\")\n",
    "for elemento in accs:\n",
    "    if re.search(r\"d\",elemento) or re.search(r\"e\",elemento):\n",
    "        print(\"\\t\" + elemento)"
   ]
  },
  {
   "cell_type": "code",
   "execution_count": 10,
   "metadata": {
    "scrolled": true
   },
   "outputs": [
    {
     "name": "stdout",
     "output_type": "stream",
     "text": [
      "contains d or e:\n",
      "\tyhdck2\n",
      "\teihd39d9\n",
      "\tchdsye847\n",
      "\thedle3455\n",
      "\txjhd53e\n",
      "\t45da\n",
      "\tde37dp\n"
     ]
    }
   ],
   "source": [
    "#Una segunda forma es \n",
    "\n",
    "print(\"contains d or e:\")\n",
    "for elemento in accs:\n",
    "    if re.search(r\"d|e\",elemento):\n",
    "        print(\"\\t\" + elemento)"
   ]
  },
  {
   "cell_type": "code",
   "execution_count": 18,
   "metadata": {},
   "outputs": [
    {
     "name": "stdout",
     "output_type": "stream",
     "text": [
      "contains d and e in that order:\n",
      "\tchdsye847\n",
      "\thedle3455\n",
      "\txjhd53e\n",
      "\tde37dp\n"
     ]
    }
   ],
   "source": [
    "print(\"contains d and e in that order:\")      #El punto significa cualquier caracter y el asterisco significa nº de repeticiones (de 0 a infinito)\n",
    "for elemento in accs:\n",
    "    if re.search(r\"d.*e\",elemento):\n",
    "        print(\"\\t\" + elemento)"
   ]
  },
  {
   "cell_type": "code",
   "execution_count": 19,
   "metadata": {},
   "outputs": [
    {
     "name": "stdout",
     "output_type": "stream",
     "text": [
      "contains d and e separated by a single letter:\n",
      "\thedle3455\n"
     ]
    }
   ],
   "source": [
    "# 4. Los que tengan las letras 'd' y 'e' en ese orden con una letra cualquiera en medio\n",
    "print(\"contains d and e separated by a single letter:\")      \n",
    "for elemento in accs:\n",
    "    if re.search(r\"(d.e)\",elemento):\n",
    "        print(\"\\t\" + elemento)"
   ]
  },
  {
   "cell_type": "code",
   "execution_count": 20,
   "metadata": {},
   "outputs": [
    {
     "name": "stdout",
     "output_type": "stream",
     "text": [
      "contains d and e separated by a single letter:\n",
      "\thedle3455\n"
     ]
    }
   ],
   "source": [
    "print(\"contains d and e separated by a single letter:\")      \n",
    "for elemento in accs:\n",
    "    if re.search(r\"(d[a-z]e)\",elemento):\n",
    "        print(\"\\t\" + elemento)"
   ]
  },
  {
   "cell_type": "code",
   "execution_count": 21,
   "metadata": {},
   "outputs": [
    {
     "name": "stdout",
     "output_type": "stream",
     "text": [
      "contains d and e in any order:\n",
      "\teihd39d9\n",
      "\tchdsye847\n",
      "\thedle3455\n",
      "\txjhd53e\n",
      "\tde37dp\n"
     ]
    }
   ],
   "source": [
    "# 5. Los que tengan ambas letras 'd' y 'e' en cualquier orden\n",
    "print(\"contains d and e in any order:\")      \n",
    "for elemento in accs:\n",
    "    if re.search(r\"d.*e\",elemento) or re.search(r\"e.*d\",elemento):\n",
    "        print(\"\\t\" + elemento)"
   ]
  },
  {
   "cell_type": "code",
   "execution_count": 22,
   "metadata": {},
   "outputs": [
    {
     "name": "stdout",
     "output_type": "stream",
     "text": [
      "contains d and e:\n",
      "\teihd39d9\n",
      "\tchdsye847\n",
      "\thedle3455\n",
      "\txjhd53e\n",
      "\tde37dp\n"
     ]
    }
   ],
   "source": [
    "# Otra forma para hacer el punto 5\n",
    "print(\"contains d and e:\")\n",
    "for elemento in accs:\n",
    "    if re.search(r\"d\",elemento) and re.search(r\"e\",elemento):\n",
    "        print(\"\\t\" + elemento)"
   ]
  },
  {
   "cell_type": "code",
   "execution_count": 25,
   "metadata": {},
   "outputs": [
    {
     "name": "stdout",
     "output_type": "stream",
     "text": [
      "starts with either x or y:\n",
      "\txkn59438\n",
      "\tyhdck2\n",
      "\txjhd53e\n"
     ]
    }
   ],
   "source": [
    "# 6. Los que empiezan por 'x' o por 'y'\n",
    "print(\"starts with either x or y:\")\n",
    "for elemento in accs:\n",
    "    if re.search(r\"^(x|y)\",elemento):\n",
    "        print(\"\\t\" + elemento)"
   ]
  },
  {
   "cell_type": "code",
   "execution_count": 26,
   "metadata": {},
   "outputs": [
    {
     "name": "stdout",
     "output_type": "stream",
     "text": [
      "starts with either x or y and ends with e:\n",
      "\txjhd53e\n"
     ]
    }
   ],
   "source": [
    "# 7. Los que empiezan por 'x' o 'y' y terminan por 'e'. El $ nos indica terminación\n",
    "print(\"starts with either x or y and ends with e:\")\n",
    "for elemento in accs:\n",
    "    if re.search(r\"^(x|y).*e$\", elemento):\n",
    "        print(\"\\t\" + elemento)"
   ]
  },
  {
   "cell_type": "code",
   "execution_count": 27,
   "metadata": {
    "scrolled": true
   },
   "outputs": [
    {
     "name": "stdout",
     "output_type": "stream",
     "text": [
      "contains three or more numbers in a row:\n",
      "\txkn59438\n",
      "\tchdsye847\n",
      "\thedle3455\n"
     ]
    }
   ],
   "source": [
    "# 8. Los que tienen tres o más dígitos seguidos . La \\d indica dígitos y {} sirve para especificar el número de repeticiones. Detrás de la coma no ponemos un número porque indica 3 o más\n",
    "print(\"contains three or more numbers in a row:\")\n",
    "for elemento in accs:\n",
    "    if re.search(r\"\\d{3,}\", elemento):\n",
    "        print(\"\\t\" + elemento)"
   ]
  },
  {
   "cell_type": "code",
   "execution_count": 28,
   "metadata": {},
   "outputs": [
    {
     "name": "stdout",
     "output_type": "stream",
     "text": [
      "ends with d followed by either a, r or p:\n",
      "\t45da\n",
      "\tde37dp\n"
     ]
    }
   ],
   "source": [
    "# 9. Los que terminan con 'd' seguidos de 'a' o 'r' o 'p'\n",
    "print(\"ends with d followed by either a, r or p:\")\n",
    "for elemento in accs:\n",
    "    if re.search(r\"d[arp]$\", elemento):\n",
    "        print(\"\\t\" + elemento)"
   ]
  }
 ],
 "metadata": {
  "kernelspec": {
   "display_name": "Python 3 (ipykernel)",
   "language": "python",
   "name": "python3"
  },
  "language_info": {
   "codemirror_mode": {
    "name": "ipython",
    "version": 3
   },
   "file_extension": ".py",
   "mimetype": "text/x-python",
   "name": "python",
   "nbconvert_exporter": "python",
   "pygments_lexer": "ipython3",
   "version": "3.11.4"
  }
 },
 "nbformat": 4,
 "nbformat_minor": 4
}
