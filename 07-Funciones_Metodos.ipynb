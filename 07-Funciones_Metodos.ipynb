{
 "cells": [
  {
   "cell_type": "markdown",
   "id": "5f1f2528",
   "metadata": {},
   "source": [
    "### METODOS. Algunos ejemplos"
   ]
  },
  {
   "cell_type": "code",
   "execution_count": 1,
   "id": "19e9e8d2",
   "metadata": {},
   "outputs": [],
   "source": [
    "lista = [1,2,3,4,5]"
   ]
  },
  {
   "cell_type": "code",
   "execution_count": 2,
   "id": "ab96c675",
   "metadata": {},
   "outputs": [
    {
     "data": {
      "text/plain": [
       "[1, 2, 3, 4, 5, 6]"
      ]
     },
     "execution_count": 2,
     "metadata": {},
     "output_type": "execute_result"
    }
   ],
   "source": [
    "lista.append(6)\n",
    "lista"
   ]
  },
  {
   "cell_type": "code",
   "execution_count": 3,
   "id": "54f0488c",
   "metadata": {},
   "outputs": [
    {
     "data": {
      "text/plain": [
       "1"
      ]
     },
     "execution_count": 3,
     "metadata": {},
     "output_type": "execute_result"
    }
   ],
   "source": [
    "lista.count(2)"
   ]
  },
  {
   "cell_type": "code",
   "execution_count": 4,
   "id": "ef6ec0a3",
   "metadata": {},
   "outputs": [
    {
     "name": "stdout",
     "output_type": "stream",
     "text": [
      "Help on built-in function count:\n",
      "\n",
      "count(value, /) method of builtins.list instance\n",
      "    Return number of occurrences of value.\n",
      "\n"
     ]
    }
   ],
   "source": [
    "help(lista.count)"
   ]
  },
  {
   "cell_type": "markdown",
   "id": "9af39265",
   "metadata": {},
   "source": [
    "### FUNCIONES"
   ]
  },
  {
   "cell_type": "code",
   "execution_count": 5,
   "id": "0ea4ff95",
   "metadata": {},
   "outputs": [],
   "source": [
    "# Hacemos nuestra primera función \n",
    "def di_hola(): #nombre de la función y entre paréntesis los argumentos\n",
    "    print('hola')"
   ]
  },
  {
   "cell_type": "code",
   "execution_count": 6,
   "id": "f8e3acff",
   "metadata": {},
   "outputs": [
    {
     "name": "stdout",
     "output_type": "stream",
     "text": [
      "hola\n"
     ]
    }
   ],
   "source": [
    "# Ahora llamamos a nuestra función. Siempre ponemos paréntesis, tengamos o no argumentos\n",
    "di_hola()"
   ]
  },
  {
   "cell_type": "code",
   "execution_count": 7,
   "id": "b5276f17",
   "metadata": {},
   "outputs": [
    {
     "data": {
      "text/plain": [
       "<function __main__.di_hola()>"
      ]
     },
     "execution_count": 7,
     "metadata": {},
     "output_type": "execute_result"
    }
   ],
   "source": [
    "# Si no ponemos los paréntesis, vemos que nos dice que es una función\n",
    "di_hola"
   ]
  },
  {
   "cell_type": "code",
   "execution_count": 8,
   "id": "d4366bc9",
   "metadata": {
    "scrolled": true
   },
   "outputs": [
    {
     "name": "stdout",
     "output_type": "stream",
     "text": [
      "Hola Jose\n"
     ]
    }
   ],
   "source": [
    "# Podemos usar los argumentos\n",
    "def saludos(nombre):\n",
    "        print(f'Hola {nombre}')\n",
    "saludos('Jose')"
   ]
  },
  {
   "cell_type": "code",
   "execution_count": 9,
   "id": "e90d4e5f",
   "metadata": {},
   "outputs": [],
   "source": [
    "# Podemos mostrar el output de una función con print() o con return. Return nos permite guardar el resultado en una variable\n",
    "# Así ese resultado lo podemos usar para lo que queramos. \n",
    "# Con print no guardamos el resultado en una variable, solo lo mostramos.\n",
    "def suma_numeros(n1,n2):\n",
    "    suma=n1+n2\n",
    "    return suma"
   ]
  },
  {
   "cell_type": "code",
   "execution_count": 10,
   "id": "e146826d",
   "metadata": {},
   "outputs": [
    {
     "data": {
      "text/plain": [
       "9"
      ]
     },
     "execution_count": 10,
     "metadata": {},
     "output_type": "execute_result"
    }
   ],
   "source": [
    "suma_numeros(4,5)"
   ]
  },
  {
   "cell_type": "code",
   "execution_count": 11,
   "id": "87130dd2",
   "metadata": {},
   "outputs": [
    {
     "data": {
      "text/plain": [
       "9"
      ]
     },
     "execution_count": 11,
     "metadata": {},
     "output_type": "execute_result"
    }
   ],
   "source": [
    "valor = suma_numeros(4,5)\n",
    "valor"
   ]
  },
  {
   "cell_type": "code",
   "execution_count": 12,
   "id": "cfe7cc0f",
   "metadata": {},
   "outputs": [
    {
     "data": {
      "text/plain": [
       "9"
      ]
     },
     "execution_count": 12,
     "metadata": {},
     "output_type": "execute_result"
    }
   ],
   "source": [
    "# También podemos hacer esto\n",
    "resultado = suma_numeros(4,5)\n",
    "resultado"
   ]
  },
  {
   "cell_type": "code",
   "execution_count": 13,
   "id": "ebf1a4d4",
   "metadata": {},
   "outputs": [
    {
     "data": {
      "text/plain": [
       "'unodos'"
      ]
     },
     "execution_count": 13,
     "metadata": {},
     "output_type": "execute_result"
    }
   ],
   "source": [
    "# ¿Y si le metemos strings a suma_numeros?\n",
    "suma_numeros('uno','dos')"
   ]
  },
  {
   "cell_type": "code",
   "execution_count": 14,
   "id": "745b0d95",
   "metadata": {},
   "outputs": [
    {
     "ename": "TypeError",
     "evalue": "can only concatenate str (not \"int\") to str",
     "output_type": "error",
     "traceback": [
      "\u001b[1;31m---------------------------------------------------------------------------\u001b[0m",
      "\u001b[1;31mTypeError\u001b[0m                                 Traceback (most recent call last)",
      "Cell \u001b[1;32mIn[14], line 1\u001b[0m\n\u001b[1;32m----> 1\u001b[0m suma_numeros(\u001b[38;5;124m'\u001b[39m\u001b[38;5;124muno\u001b[39m\u001b[38;5;124m'\u001b[39m,\u001b[38;5;241m4\u001b[39m)\n",
      "Cell \u001b[1;32mIn[9], line 5\u001b[0m, in \u001b[0;36msuma_numeros\u001b[1;34m(n1, n2)\u001b[0m\n\u001b[0;32m      4\u001b[0m \u001b[38;5;28;01mdef\u001b[39;00m \u001b[38;5;21msuma_numeros\u001b[39m(n1,n2):\n\u001b[1;32m----> 5\u001b[0m     suma\u001b[38;5;241m=\u001b[39mn1\u001b[38;5;241m+\u001b[39mn2\n\u001b[0;32m      6\u001b[0m     \u001b[38;5;28;01mreturn\u001b[39;00m suma\n",
      "\u001b[1;31mTypeError\u001b[0m: can only concatenate str (not \"int\") to str"
     ]
    }
   ],
   "source": [
    "suma_numeros('uno',4)"
   ]
  },
  {
   "cell_type": "code",
   "execution_count": 15,
   "id": "f1ff6e83",
   "metadata": {},
   "outputs": [],
   "source": [
    "# Vamos a hacer una función que chequea si un número de una lista es par\n",
    "# Para ello tenemos en cuenta que el módulo de un número par dividido entre 2 es igual a 0.\n",
    "def es_par(lista_numeros):\n",
    "    for numero in lista_numeros:\n",
    "            if numero % 2 == 0:\n",
    "                # si esta condición se cumple con return nos salimos de la lista\n",
    "                return True\n",
    "            else:\n",
    "                pass"
   ]
  },
  {
   "cell_type": "code",
   "execution_count": 16,
   "id": "977bf174",
   "metadata": {},
   "outputs": [
    {
     "data": {
      "text/plain": [
       "True"
      ]
     },
     "execution_count": 16,
     "metadata": {},
     "output_type": "execute_result"
    }
   ],
   "source": [
    "es_par([1,2,3])"
   ]
  },
  {
   "cell_type": "code",
   "execution_count": 17,
   "id": "08813e52",
   "metadata": {},
   "outputs": [],
   "source": [
    "# Sin embargo, si son todos impares no devuelve nada\n",
    "es_par([1,3])"
   ]
  },
  {
   "cell_type": "code",
   "execution_count": 19,
   "id": "42ef0372",
   "metadata": {},
   "outputs": [],
   "source": [
    "# Para corregirlo, podemos pensar que si añadirmos un return False, no? ¿Pero qué pasa si lo añadimos?\n",
    "def es_par(lista_numeros):\n",
    "    for numero in lista_numeros:\n",
    "            if numero % 2 == 0:\n",
    "                # si esta condición se cumple con return nos salimos de la lista\n",
    "                return True\n",
    "            else:\n",
    "                return False"
   ]
  },
  {
   "cell_type": "code",
   "execution_count": 20,
   "id": "cf8999f8",
   "metadata": {},
   "outputs": [
    {
     "data": {
      "text/plain": [
       "False"
      ]
     },
     "execution_count": 20,
     "metadata": {},
     "output_type": "execute_result"
    }
   ],
   "source": [
    "# Como el primero es impar, sale del bucle y ya no mira nada más\n",
    "es_par([1,2,3])"
   ]
  },
  {
   "cell_type": "code",
   "execution_count": 21,
   "id": "9d6b233d",
   "metadata": {},
   "outputs": [],
   "source": [
    "# Esta sería una solución correcta\n",
    "def es_par(lista_numeros):\n",
    "    for numero in lista_numeros:\n",
    "            if numero % 2 == 0:\n",
    "                # si esta condición se cumple con return nos salimos de la lista\n",
    "                return True\n",
    "            else:\n",
    "                pass\n",
    "    # Cuando acaba de comprobar TODA la lista ahí sale del bloque\n",
    "    return False"
   ]
  },
  {
   "cell_type": "code",
   "execution_count": 22,
   "id": "606cef62",
   "metadata": {},
   "outputs": [
    {
     "data": {
      "text/plain": [
       "True"
      ]
     },
     "execution_count": 22,
     "metadata": {},
     "output_type": "execute_result"
    }
   ],
   "source": [
    "es_par([1,2,3])"
   ]
  },
  {
   "cell_type": "code",
   "execution_count": 23,
   "id": "cdca8ff7",
   "metadata": {},
   "outputs": [
    {
     "data": {
      "text/plain": [
       "False"
      ]
     },
     "execution_count": 23,
     "metadata": {},
     "output_type": "execute_result"
    }
   ],
   "source": [
    "es_par([1,3,7])"
   ]
  },
  {
   "cell_type": "code",
   "execution_count": 24,
   "id": "4a457f82",
   "metadata": {},
   "outputs": [],
   "source": [
    "# Ahora vamos a por un ejemplo un poco más complicado. Queremos que nos devuelva TODOS los numeros pares en un lista. \n",
    "# Si no hay números pares, nos va a devolver la lista vacía\n",
    "def es_par(lista_numeros):\n",
    "    # Creamos una lista vacía\n",
    "    lista_pares = []\n",
    "    # Parseamos cada elemento de nuestro input:\n",
    "    for numero in lista_numeros:\n",
    "        if numero % 2 == 0:\n",
    "            # Si esto es verdad, añadimos nuestro elemento a la lista\n",
    "            lista_pares.append(numero)\n",
    "        else:\n",
    "            pass\n",
    "    return lista_pares"
   ]
  },
  {
   "cell_type": "code",
   "execution_count": 25,
   "id": "640e5c75",
   "metadata": {},
   "outputs": [
    {
     "data": {
      "text/plain": [
       "[2, 4, 6]"
      ]
     },
     "execution_count": 25,
     "metadata": {},
     "output_type": "execute_result"
    }
   ],
   "source": [
    "es_par([1,2,3,4,5,6])"
   ]
  },
  {
   "cell_type": "code",
   "execution_count": 26,
   "id": "18484a02",
   "metadata": {},
   "outputs": [
    {
     "data": {
      "text/plain": [
       "[]"
      ]
     },
     "execution_count": 26,
     "metadata": {},
     "output_type": "execute_result"
    }
   ],
   "source": [
    "es_par([1,3,5,7,9])"
   ]
  },
  {
   "cell_type": "code",
   "execution_count": 27,
   "id": "3ae5f1fb",
   "metadata": {
    "scrolled": true
   },
   "outputs": [
    {
     "data": {
      "text/plain": [
       "[' ', 'O', ' ']"
      ]
     },
     "execution_count": 27,
     "metadata": {},
     "output_type": "execute_result"
    }
   ],
   "source": [
    "# Vamos a crear ahora un pequeño juego. El jugador debe adivinar dónde está la letra \"O\"\n",
    "# Empezamos creando una lista con tres elementos dónde la \"O\" se pone de forma aleatoria\n",
    "from random import shuffle\n",
    "mi_lista = [' ','O',' ']\n",
    "def desordenar_lista(lista):\n",
    "    shuffle(lista)\n",
    "    return lista\n",
    "desordenar_lista(mi_lista)\n",
    "mi_lista"
   ]
  },
  {
   "cell_type": "code",
   "execution_count": 28,
   "id": "a11e5406",
   "metadata": {},
   "outputs": [],
   "source": [
    "# Ahora el jugador tiene que adivinar dónde está. Para ello hacemos una función\n",
    "def adivinacion():\n",
    "    intento = ''\n",
    "    while intento not in ['0','1','2']:\n",
    "        intento = input(\"Esocoje un número: 0, 1, 2: \")\n",
    "    return int(intento)"
   ]
  },
  {
   "cell_type": "code",
   "execution_count": 29,
   "id": "a8c6b138",
   "metadata": {},
   "outputs": [
    {
     "name": "stdout",
     "output_type": "stream",
     "text": [
      "Esocoje un número: 0, 1, 2: 1\n"
     ]
    },
    {
     "data": {
      "text/plain": [
       "1"
      ]
     },
     "execution_count": 29,
     "metadata": {},
     "output_type": "execute_result"
    }
   ],
   "source": [
    "adivinacion()"
   ]
  },
  {
   "cell_type": "code",
   "execution_count": 31,
   "id": "01ac8460",
   "metadata": {},
   "outputs": [],
   "source": [
    "# Ahora comprobamos el intento\n",
    "def comprobacion(lista,intento):\n",
    "    if lista[intento] == 'O':\n",
    "        print('¡Has acertado!')\n",
    "    else:\n",
    "        print('¡Has fallado! Suerte para la próxima')\n",
    "        print(lista)"
   ]
  },
  {
   "cell_type": "code",
   "execution_count": 33,
   "id": "e3079352",
   "metadata": {
    "scrolled": true
   },
   "outputs": [
    {
     "name": "stdout",
     "output_type": "stream",
     "text": [
      "Esocoje un número: 0, 1, 2: 0\n",
      "¡Has fallado! Suerte para la próxima\n",
      "[' ', ' ', 'O']\n"
     ]
    }
   ],
   "source": [
    "# Ahora vamos a juntarlo todo\n",
    "mi_lista = [' ','O',' ']\n",
    "lista_desordenada=desordenar_lista(mi_lista)\n",
    "intento = adivinacion()\n",
    "comprobacion(lista_desordenada,intento)\n"
   ]
  },
  {
   "cell_type": "markdown",
   "id": "92e81fa5",
   "metadata": {},
   "source": [
    "### Ejercicios de Funciones"
   ]
  },
  {
   "cell_type": "markdown",
   "id": "1d4f18ca",
   "metadata": {},
   "source": [
    "#### 1.- El menor de dos pares. Escribe una función que devuelva el menor de dos números, SOLAMENTE si los dos números son pares. En caso de que uno de los dos, o los dos, sean impares, devuelve el número más alto"
   ]
  },
  {
   "cell_type": "code",
   "execution_count": 34,
   "id": "a5c5e086",
   "metadata": {},
   "outputs": [],
   "source": [
    "def el_par_menor(n1,n2):\n",
    "    if n1%2 == 0 and n2%2 == 0:\n",
    "        return min(n1,n2)\n",
    "    else:\n",
    "        return max(n1,n2)"
   ]
  },
  {
   "cell_type": "code",
   "execution_count": 35,
   "id": "ae147774",
   "metadata": {},
   "outputs": [
    {
     "data": {
      "text/plain": [
       "5"
      ]
     },
     "execution_count": 35,
     "metadata": {},
     "output_type": "execute_result"
    }
   ],
   "source": [
    "el_par_menor(4,5)"
   ]
  },
  {
   "cell_type": "code",
   "execution_count": 36,
   "id": "767cd496",
   "metadata": {},
   "outputs": [
    {
     "data": {
      "text/plain": [
       "8"
      ]
     },
     "execution_count": 36,
     "metadata": {},
     "output_type": "execute_result"
    }
   ],
   "source": [
    "el_par_menor(8,10)"
   ]
  },
  {
   "cell_type": "markdown",
   "id": "253087f6",
   "metadata": {},
   "source": [
    "#### 2.- Escribe una función que tome como argumento una string de dos palabras y devuelva True si ambas empiezan por la misma letra"
   ]
  },
  {
   "cell_type": "code",
   "execution_count": 37,
   "id": "bcc71873",
   "metadata": {},
   "outputs": [],
   "source": [
    "def dos_palabras(text):\n",
    "    lista_palabras = text.split()\n",
    "    if len(lista_palabras)==2:\n",
    "        if lista_palabras[0][0] == lista_palabras[1][0]:\n",
    "            return True\n",
    "        else:\n",
    "            return False\n",
    "    else:\n",
    "        print('¡Tu string no tiene dos palabras!')\n",
    "        return False\n",
    "        "
   ]
  },
  {
   "cell_type": "code",
   "execution_count": 38,
   "id": "879e2144",
   "metadata": {
    "scrolled": false
   },
   "outputs": [
    {
     "data": {
      "text/plain": [
       "True"
      ]
     },
     "execution_count": 38,
     "metadata": {},
     "output_type": "execute_result"
    }
   ],
   "source": [
    "dos_palabras('Loca Llama')"
   ]
  },
  {
   "cell_type": "code",
   "execution_count": 39,
   "id": "8af0e0cb",
   "metadata": {
    "scrolled": true
   },
   "outputs": [
    {
     "name": "stdout",
     "output_type": "stream",
     "text": [
      "¡Tu string no tiene dos palabras!\n"
     ]
    },
    {
     "data": {
      "text/plain": [
       "False"
      ]
     },
     "execution_count": 39,
     "metadata": {},
     "output_type": "execute_result"
    }
   ],
   "source": [
    "dos_palabras('Llama')"
   ]
  },
  {
   "cell_type": "code",
   "execution_count": 40,
   "id": "c201d160",
   "metadata": {},
   "outputs": [
    {
     "data": {
      "text/plain": [
       "False"
      ]
     },
     "execution_count": 40,
     "metadata": {},
     "output_type": "execute_result"
    }
   ],
   "source": [
    "dos_palabras('Volver Tiempo')"
   ]
  },
  {
   "cell_type": "markdown",
   "id": "7db0e184",
   "metadata": {},
   "source": [
    "#### 3.- Escribe una función que tome dos números enteros y que devuelva True si la suma de los dos es 20, o si uno de los dos es 20. Que devuelva Falso si no."
   ]
  },
  {
   "cell_type": "code",
   "execution_count": 41,
   "id": "f1ae516e",
   "metadata": {},
   "outputs": [
    {
     "data": {
      "text/plain": [
       "True"
      ]
     },
     "execution_count": 41,
     "metadata": {},
     "output_type": "execute_result"
    }
   ],
   "source": [
    "def hacen_veinte(n1,n2):\n",
    "    if (n1+n2)==20 or n1 == 20 or n2==20:\n",
    "        return True\n",
    "    else:\n",
    "        return False\n",
    "hacen_veinte(20,10)"
   ]
  },
  {
   "cell_type": "code",
   "execution_count": 42,
   "id": "32c8679e",
   "metadata": {},
   "outputs": [
    {
     "data": {
      "text/plain": [
       "True"
      ]
     },
     "execution_count": 42,
     "metadata": {},
     "output_type": "execute_result"
    }
   ],
   "source": [
    "hacen_veinte(12,8)"
   ]
  },
  {
   "cell_type": "code",
   "execution_count": 43,
   "id": "77a4a46c",
   "metadata": {
    "scrolled": true
   },
   "outputs": [
    {
     "data": {
      "text/plain": [
       "False"
      ]
     },
     "execution_count": 43,
     "metadata": {},
     "output_type": "execute_result"
    }
   ],
   "source": [
    "hacen_veinte(2,3)"
   ]
  },
  {
   "cell_type": "markdown",
   "id": "406eb793",
   "metadata": {},
   "source": [
    "#### 4.- Escribe una función que devuelva en mayúsculas la primera letra y la quinta letra de una palabra. Pista: usa capitalize()"
   ]
  },
  {
   "cell_type": "code",
   "execution_count": 44,
   "id": "c0e9c11e",
   "metadata": {},
   "outputs": [],
   "source": [
    "def algunas_mayusculas(nombre):\n",
    "    if len(nombre) > 4:\n",
    "        return nombre[:4].capitalize() + nombre[4:].capitalize()\n",
    "    else:\n",
    "        return 'El nombre es muy corto'"
   ]
  },
  {
   "cell_type": "code",
   "execution_count": 45,
   "id": "a373cf89",
   "metadata": {},
   "outputs": [
    {
     "data": {
      "text/plain": [
       "'DinoSaurio'"
      ]
     },
     "execution_count": 45,
     "metadata": {},
     "output_type": "execute_result"
    }
   ],
   "source": [
    "algunas_mayusculas('dinosaurio')"
   ]
  },
  {
   "cell_type": "markdown",
   "id": "9f8b992e",
   "metadata": {},
   "source": [
    "#### 5.- Escribe una función que devuelva una frase invertida."
   ]
  },
  {
   "cell_type": "code",
   "execution_count": 46,
   "id": "f02378b5",
   "metadata": {},
   "outputs": [],
   "source": [
    "def maestro_yoda(frase):\n",
    "    return ' '.join(frase.split()[::-1])"
   ]
  },
  {
   "cell_type": "code",
   "execution_count": 47,
   "id": "25d88ba3",
   "metadata": {},
   "outputs": [
    {
     "data": {
      "text/plain": [
       "'ya listos Estamos'"
      ]
     },
     "execution_count": 47,
     "metadata": {},
     "output_type": "execute_result"
    }
   ],
   "source": [
    "#frase='Aquí estoy'\n",
    "#sep=frase.split()\n",
    "#' '.join(sep)\n",
    "#frase[::-1]\n",
    "maestro_yoda('Estamos listos ya')"
   ]
  },
  {
   "cell_type": "markdown",
   "id": "784b3ec2",
   "metadata": {},
   "source": [
    "#### 6.- Dada una lista de enteros, devuelve True si contiene un 3 al lado de otro 3"
   ]
  },
  {
   "cell_type": "code",
   "execution_count": 48,
   "id": "2edaca3b",
   "metadata": {},
   "outputs": [],
   "source": [
    "def hay_33(lista):\n",
    "    for i in range(0,len(lista)-1):\n",
    "        if lista[i] == 3 and lista[i+1]==3:\n",
    "            return True\n",
    "    return False"
   ]
  },
  {
   "cell_type": "code",
   "execution_count": 49,
   "id": "e8151768",
   "metadata": {},
   "outputs": [
    {
     "data": {
      "text/plain": [
       "True"
      ]
     },
     "execution_count": 49,
     "metadata": {},
     "output_type": "execute_result"
    }
   ],
   "source": [
    "hay_33([1,3,3])"
   ]
  },
  {
   "cell_type": "code",
   "execution_count": 50,
   "id": "00fd0187",
   "metadata": {
    "scrolled": false
   },
   "outputs": [
    {
     "data": {
      "text/plain": [
       "False"
      ]
     },
     "execution_count": 50,
     "metadata": {},
     "output_type": "execute_result"
    }
   ],
   "source": [
    "hay_33([1,3,1,3])"
   ]
  },
  {
   "cell_type": "markdown",
   "id": "2f3d3dea",
   "metadata": {},
   "source": [
    "#### 7.- Escribe una función que busque numeros primos. "
   ]
  },
  {
   "cell_type": "code",
   "execution_count": 51,
   "id": "2472ecd6",
   "metadata": {},
   "outputs": [],
   "source": [
    "def es_primo(n):\n",
    "    for i in range(2,n):\n",
    "        if n%i==0:\n",
    "            print(n,'No es primo')\n",
    "            break\n",
    "        else:\n",
    "            continue\n",
    "    print(n,'Es primo')"
   ]
  },
  {
   "cell_type": "code",
   "execution_count": 52,
   "id": "a0df1b16",
   "metadata": {},
   "outputs": [
    {
     "name": "stdout",
     "output_type": "stream",
     "text": [
      "13 Es primo\n"
     ]
    }
   ],
   "source": [
    "es_primo(13)"
   ]
  },
  {
   "cell_type": "code",
   "execution_count": 53,
   "id": "55032e96",
   "metadata": {
    "scrolled": true
   },
   "outputs": [
    {
     "name": "stdout",
     "output_type": "stream",
     "text": [
      "8 No es primo\n",
      "8 Es primo\n"
     ]
    }
   ],
   "source": [
    "es_primo(8)"
   ]
  },
  {
   "cell_type": "markdown",
   "id": "66eec5ea",
   "metadata": {},
   "source": [
    "#### 8.- Juego de espías. Escribe una función que encuentre la secuencia 007 en una lista"
   ]
  },
  {
   "cell_type": "code",
   "execution_count": 54,
   "id": "85879853",
   "metadata": {},
   "outputs": [],
   "source": [
    "def juego_espias(lista):\n",
    "    code=[0,0,7,'x']\n",
    "    for i in lista:\n",
    "        if i == code[0]:\n",
    "            code.remove(i)\n",
    "            #code.pop(0)\n",
    "    return len(code)==1"
   ]
  },
  {
   "cell_type": "code",
   "execution_count": 55,
   "id": "843478af",
   "metadata": {},
   "outputs": [
    {
     "data": {
      "text/plain": [
       "True"
      ]
     },
     "execution_count": 55,
     "metadata": {},
     "output_type": "execute_result"
    }
   ],
   "source": [
    "juego_espias([1,2,4,0,0,7,5])"
   ]
  },
  {
   "cell_type": "code",
   "execution_count": 56,
   "id": "a5a9c0f4",
   "metadata": {},
   "outputs": [
    {
     "data": {
      "text/plain": [
       "False"
      ]
     },
     "execution_count": 56,
     "metadata": {},
     "output_type": "execute_result"
    }
   ],
   "source": [
    "juego_espias([1,2,4,0,7,5,6])"
   ]
  },
  {
   "cell_type": "markdown",
   "id": "4e8f6489",
   "metadata": {},
   "source": [
    "#### 9.- Juego de BLACKJACK. Dados tres numeros enteros entre el 1 y el 11, si su suma es menor o igual que 21, devuelve su suma. Si su suma es mayor que 21 y hay un 11, resta 10 al total de la suma. Finalmente, si con el ajuste es mayor que 21, se devuelve BUST.\n",
    "##### 5,6,7 =18\n",
    "##### 9,9,9 = BUST\n",
    "##### 9,9,11 = 19"
   ]
  },
  {
   "cell_type": "code",
   "execution_count": 57,
   "id": "110b4581",
   "metadata": {},
   "outputs": [],
   "source": [
    "def blackjack(a,b,c):\n",
    "    # Primero comprobamos que ninguno de los numeros sea mayor que 11 o 0\n",
    "    if a>11 or b>11 or c>11 or a==0 or b==0 or c==0:\n",
    "        return 'Números fuera de rango'\n",
    "    else:\n",
    "        # Ahora calculamos la suma. Hay que poner doble paréntesis para que sum() pille más de dos argumentos\n",
    "        suma=sum((a,b,c))\n",
    "        if suma <= 21:\n",
    "            return suma\n",
    "        elif suma <= 31 and 11 in (a,b,c):\n",
    "            return suma - 10\n",
    "        else:\n",
    "            return 'BUST'"
   ]
  },
  {
   "cell_type": "code",
   "execution_count": 59,
   "id": "82803b4d",
   "metadata": {},
   "outputs": [
    {
     "data": {
      "text/plain": [
       "'BUST'"
      ]
     },
     "execution_count": 59,
     "metadata": {},
     "output_type": "execute_result"
    }
   ],
   "source": [
    "blackjack(9,9,9)"
   ]
  },
  {
   "cell_type": "code",
   "execution_count": 60,
   "id": "ff6acf0b",
   "metadata": {},
   "outputs": [
    {
     "data": {
      "text/plain": [
       "18"
      ]
     },
     "execution_count": 60,
     "metadata": {},
     "output_type": "execute_result"
    }
   ],
   "source": [
    "blackjack(5,6,7)"
   ]
  },
  {
   "cell_type": "code",
   "execution_count": 61,
   "id": "47311839",
   "metadata": {},
   "outputs": [
    {
     "data": {
      "text/plain": [
       "19"
      ]
     },
     "execution_count": 61,
     "metadata": {},
     "output_type": "execute_result"
    }
   ],
   "source": [
    "blackjack(9,9,11)"
   ]
  },
  {
   "cell_type": "code",
   "execution_count": 62,
   "id": "d779baf7",
   "metadata": {},
   "outputs": [
    {
     "data": {
      "text/plain": [
       "'Números fuera de rango'"
      ]
     },
     "execution_count": 62,
     "metadata": {},
     "output_type": "execute_result"
    }
   ],
   "source": [
    "blackjack(0,2,3)"
   ]
  },
  {
   "cell_type": "code",
   "execution_count": 63,
   "id": "5355d4d0",
   "metadata": {},
   "outputs": [
    {
     "data": {
      "text/plain": [
       "'Números fuera de rango'"
      ]
     },
     "execution_count": 63,
     "metadata": {},
     "output_type": "execute_result"
    }
   ],
   "source": [
    "blackjack(2,5,34)"
   ]
  }
 ],
 "metadata": {
  "kernelspec": {
   "display_name": "Python 3 (ipykernel)",
   "language": "python",
   "name": "python3"
  },
  "language_info": {
   "codemirror_mode": {
    "name": "ipython",
    "version": 3
   },
   "file_extension": ".py",
   "mimetype": "text/x-python",
   "name": "python",
   "nbconvert_exporter": "python",
   "pygments_lexer": "ipython3",
   "version": "3.11.4"
  }
 },
 "nbformat": 4,
 "nbformat_minor": 5
}
