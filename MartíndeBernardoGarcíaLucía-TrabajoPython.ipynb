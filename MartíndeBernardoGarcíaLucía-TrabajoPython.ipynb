{
 "cells": [
  {
   "cell_type": "markdown",
   "metadata": {},
   "source": [
    "# TRABAJO DE PYTHON\n",
    "\n",
    "### Este trabajo cuenta el 30% de la nota. La entrega será el 5 de Noviembre a las 23:59.\n",
    "\n",
    "### Resuelve los siguientes ejercicios en Python sin usar expresiones regulares\n",
    "\n",
    "#### Utiliza tantas celdas de código como necesites\n",
    "\n",
    "##\n",
    "\n",
    "\n",
    "\n",
    "\n",
    "\n",
    "\n",
    "\n"
   ]
  },
  {
   "cell_type": "markdown",
   "metadata": {},
   "source": [
    "### 1.- BUSCA LA SECUENCIA COMPLEMENTARIA\n",
    "#### Devuelve la secuencia complementaria de la siguiente secuencia de ADN"
   ]
  },
  {
   "cell_type": "code",
   "execution_count": 1,
   "metadata": {},
   "outputs": [],
   "source": [
    "my_dna = \"ACTGATCGATTACGTATAGTATTTGCTATCATACATATATATCGATGCGTTCAT\""
   ]
  },
  {
   "cell_type": "code",
   "execution_count": 2,
   "metadata": {},
   "outputs": [
    {
     "name": "stdout",
     "output_type": "stream",
     "text": [
      "TGACTAGCTAATGCATATCATAAACGATAGTATGTATATATAGCTACGCAAGTA\n"
     ]
    }
   ],
   "source": [
    "def secuencia_complementaria(cadena):\n",
    "    complementariedad = {'A': 'T', 'T': 'A', 'C': 'G', 'G': 'C'}\n",
    "    secuencia_complementaria = [complementariedad[n] for n in cadena]\n",
    "    return ''.join(secuencia_complementaria)\n",
    "\n",
    "cadena_original = \"ACTGATCGATTACGTATAGTATTTGCTATCATACATATATATCGATGCGTTCAT\"\n",
    "cadena_complementaria = secuencia_complementaria(cadena_original)\n",
    "\n",
    "print(cadena_complementaria)"
   ]
  },
  {
   "cell_type": "markdown",
   "metadata": {},
   "source": [
    "EXPLICACIÓN DE CADA PASO\n",
    "\n",
    "def secuencia_complementaria(cadena) -> define la función de secuencia complementaria y que toma como argumento la cadena \n",
    "\n",
    "complementariedad = {'A': 'T', 'T': 'A', 'C': 'G', 'G': 'C'} -> crea un diccionario al que llamamos complementarieda. La primera key es A cuyo valor es la T, después indica que la segunda key es T con el valor A, posteriormente la tercera key es C y su valor G y la cuarta key es G y su valor C. Es decir, establece la complementariedad de las bases\n",
    "\n",
    "secuencia_complementaria = [complementariedad[n] for n in cadena] -> con esta función recorremos cada nucleótido en la cadena y obtenemos la complementariedad del diccionario. \n",
    "\n",
    "return ''.join(secuencia_complementaria) -> cogerá los elementos del diccionario para dar la complementariedad de la secuencia\n",
    "\n",
    "cadena_original = \"ACTGATCGATTACGTATAGTATTTGCTATCATACATATATATCGATGCGTTCAT\" -> define la cadena original\n",
    "\n",
    "cadena_complementaria = secuencia_complementaria(cadena_original) -> generamos una variable llamada cadena_complementaria que \n",
    "\n",
    "tiene la función de secuencia complementaria en función de la cadena original\n",
    "\n",
    "print(cadena_complementaria) -> función para que nos saque la cadedna complementaria"
   ]
  },
  {
   "cell_type": "markdown",
   "metadata": {},
   "source": [
    "##\n",
    "### 2.- FRAGMENTOS DE RESTRICCION\n",
    "#### Obtén los fragmentos de restricción de EcoRI, que tiene un sitio de corte en G*AATTC (la posición de corte se indica por el *).\n",
    "#### No uses expresiones regulares. \n",
    "#### Pista: utiliza la función find()"
   ]
  },
  {
   "cell_type": "code",
   "execution_count": 3,
   "metadata": {
    "scrolled": true
   },
   "outputs": [],
   "source": [
    "my_dna = \"ACTGATCGATTACGTATAGTATTTGCTATGAATTCCATACATATATATCGATGCGTTCAT\""
   ]
  },
  {
   "cell_type": "code",
   "execution_count": 4,
   "metadata": {},
   "outputs": [
    {
     "name": "stdout",
     "output_type": "stream",
     "text": [
      "Fragmento 1:\n",
      "ACTGATCGATTACGTATAGTATTTGCTATG\n",
      "Fragmento 2 :\n",
      "AATTCCATACATATATATCGATGCGTTCATG\n"
     ]
    }
   ],
   "source": [
    "my_dna = \"ACTGATCGATTACGTATAGTATTTGCTATGAATTCCATACATATATATCGATGCGTTCATG\"\n",
    "sitio_corte_ecoRI = \"AATTC\" \n",
    "\n",
    "posicion_corte = my_dna.find(sitio_corte_ecoRI)  \n",
    "\n",
    "if posicion_corte != -1:\n",
    "    fragmento_1 = my_dna[:posicion_corte]  \n",
    "    fragmento_2 = my_dna[posicion_corte:]  \n",
    "\n",
    "    print(\"Fragmento 1:\")\n",
    "    print(fragmento_1)\n",
    "    print(\"Fragmento 2 :\")\n",
    "    print(fragmento_2)\n",
    "else:\n",
    "    print(\"El sitio de corte de EcoRI no se encuentra en la secuencia.\")\n"
   ]
  },
  {
   "cell_type": "markdown",
   "metadata": {},
   "source": [
    "EXPLICACIÓN DE LOS PASOS\n",
    "\n",
    "posicion_corte -> la función find() busca el sitio de corte de EcoRI en la cadena que hemos nombrado como my_dna. \n",
    "\n",
    "Después generamos un bucle donde: \n",
    "\n",
    "Si se encuentra el sitio de corte (if), la variable generada posicion_corte contendrá la posición de inicio del sitio de corte. \n",
    "Si no lo encuentra, entonces tendrá un -1. Por lo tanto, si se encuentra el sitio de corte, el código dentro de if se ejecutará.\n",
    "\n",
    "fragmento_1 -> es una variable que almacena el fragmento que comprende desde el inicio de la secuencia, indicado por hasta antes del sitio de corte\n",
    "\n",
    "fragmento_2 -> es una variable que almacena el fragmento que comprende desde después del sitio de corte  hasta el final de la secuencia \n",
    "\n",
    "Si no se encuentra el sitio de corte (else), entonces se pondrá que no se ha encontrado"
   ]
  },
  {
   "cell_type": "markdown",
   "metadata": {},
   "source": [
    "##\n",
    "### 3.- ENCUENTRA LOS EXONES\n",
    "#### Encuentra los exones en la siguiente secuencia\n",
    "1. El primer exón va de la primera base a la base 63 (empieza a contar desde 0)\n",
    "2. El segundo exón va de la base 91 (contando desde 0) hasta el final\n",
    "3. Calcula el porcentaje de secuencia codificante\n",
    "4. Imprime en pantalla la secuencia original con los exones en mayúsculas y los intrones en minúsculas"
   ]
  },
  {
   "cell_type": "code",
   "execution_count": 5,
   "metadata": {},
   "outputs": [],
   "source": [
    "genomic_dna = \"ATCGATCGATCGATCGACTGACTAGTCATAGCTATGCATGTAGCTACTCGATCGATCGATCGATCGATCGATCGATCGATCGATCATGCTATCATCGATCGATATCGATGCATCGACTACTAT\""
   ]
  },
  {
   "cell_type": "code",
   "execution_count": 6,
   "metadata": {},
   "outputs": [
    {
     "data": {
      "text/plain": [
       "'ATCGATCGATCGATCGACTGACTAGTCATAGCTATGCATGTAGCTACTCGATCGATCGATCGA'"
      ]
     },
     "execution_count": 6,
     "metadata": {},
     "output_type": "execute_result"
    }
   ],
   "source": [
    "# 1. El primer exón va de la primera base a la base 63 (empieza a contar desde 0). \n",
    "genomic_dna [:63]"
   ]
  },
  {
   "cell_type": "code",
   "execution_count": 7,
   "metadata": {},
   "outputs": [
    {
     "data": {
      "text/plain": [
       "'TCATCGATCGATATCGATGCATCGACTACTAT'"
      ]
     },
     "execution_count": 7,
     "metadata": {},
     "output_type": "execute_result"
    }
   ],
   "source": [
    "# 2. El segundo exón va de la base 91 (contando desde 0) hasta el final\n",
    "genomic_dna [91:]"
   ]
  },
  {
   "cell_type": "code",
   "execution_count": 8,
   "metadata": {},
   "outputs": [
    {
     "name": "stdout",
     "output_type": "stream",
     "text": [
      "Porcentaje de secuencia codificante: 78.86178861788618 %\n"
     ]
    }
   ],
   "source": [
    "# Calcula el porcentaje de secuencia codificante\n",
    "# Primero determinamos de qué base a qué base va cada exón\n",
    "exon1_inicio = 0\n",
    "exon1_fin = 63\n",
    "exon2_inicio = 90\n",
    "\n",
    "# Después calculamos la longitud de los exones e intrones. Se calcula sumando la longitud del primer exón (desde 0 hasta 63) y la longitud desde el segundo exón (desde 90 hasta el final de la cadena (lo determinamos por genomic_dna)).  \n",
    "longitud_exones = (exon1_fin + 1) + (len(genomic_dna) - exon2_inicio)\n",
    "longitud_intrones = len(genomic_dna) - longitud_exones\n",
    "\n",
    "# Para finalizar, calculamos el porcentaje de secuencia codificante. Para ello, dividimos la longitud_exones entre la longitud total de la cadena de ADN (genomic_dna) y multiplicando por 100\n",
    "porcentaje_codificante = (longitud_exones / len(genomic_dna)) * 100\n",
    "\n",
    "print(\"Porcentaje de secuencia codificante:\", porcentaje_codificante, \"%\")"
   ]
  },
  {
   "cell_type": "code",
   "execution_count": 9,
   "metadata": {},
   "outputs": [
    {
     "name": "stdout",
     "output_type": "stream",
     "text": [
      "ATCGATCGATCGATCGACTGACTAGTCATAGCTATGCATGTAGCTACTCGATCGATCGATCGATcgatcgatcgatcgatcgatcatgctATCATCGATCGATATCGATGCATCGACTACTAT\n"
     ]
    }
   ],
   "source": [
    "# Imprime en pantalla la secuencia original con los exones en mayúsculas y los intrones en minúsculas\n",
    "# Extrae los exones e intrones\n",
    "exon1 = genomic_dna[exon1_inicio:exon1_fin + 1]\n",
    "exon2 = genomic_dna[exon2_inicio:]\n",
    "\n",
    "# Combina exones en mayúsculas e intrones en minúsculas\n",
    "secuencia_modificada = exon1.upper() + genomic_dna[exon1_fin + 1:exon2_inicio].lower() + exon2.upper()\n",
    "\n",
    "# Imprime la secuencia con exones en mayúsculas e intrones en minúsculas\n",
    "print(secuencia_modificada)"
   ]
  },
  {
   "cell_type": "markdown",
   "metadata": {},
   "source": [
    "##\n",
    "### 4.- ESCRIBE UN ARCHIVO FASTA\n",
    "#### Escribe un archivo FASTA que tenga las siguientes secuencias:\n",
    "1. ABC123 \tATCGTACGATCGATCGATCGCTAGACGTATCG\n",
    "2. DEF456 \tactgatcgacgatcgatcgatcacgact\n",
    "3. HIJ789 \tACTGAC-ACTGT--ACTGTA----CATGTG\n",
    "\n",
    "###### *Ten en cuenta que todas las secuencias deben tener solo ATGC caracteres y tienen que estar en mayúsculas\n",
    "###### Recuerda que las secuencias en FASTA empiezan por una línea \">identificador\" y la siguiente línea tiene la secuencia\n",
    "\n",
    "###### >ABC123\n",
    "###### ATCGTACGATCGATCGATCGCTAGACGTATCG\n",
    "###### >DEF456\n",
    "###### ACTGATCGACGATCGATCGATCACGACT\n",
    "###### >HIJ789\n",
    "###### ACTGACACTGTACTGTACATGTG"
   ]
  },
  {
   "cell_type": "code",
   "execution_count": 10,
   "metadata": {},
   "outputs": [
    {
     "name": "stdout",
     "output_type": "stream",
     "text": [
      "ABC123\n",
      "ATCGTACGATCGATCGATCGCTAGACGTATCG\n",
      "DEF456\n",
      "actgatcgacgatcgatcgatcacgact\n",
      "HIJ789\n",
      "ACTGAC-ACTGT--ACTGTA----CATGTG\n"
     ]
    }
   ],
   "source": [
    "# Esto es lo que nos ha dado Irene\n",
    "d={\n",
    "    'ABC123' :'ATCGTACGATCGATCGATCGCTAGACGTATCG',\n",
    "    'DEF456' : 'actgatcgacgatcgatcgatcacgact',\n",
    "    'HIJ789' : 'ACTGAC-ACTGT--ACTGTA----CATGTG'\n",
    "}\n",
    "\n",
    "for key in d.keys():\n",
    "    print(key)\n",
    "    print(d[key])"
   ]
  },
  {
   "cell_type": "code",
   "execution_count": 11,
   "metadata": {},
   "outputs": [
    {
     "name": "stdout",
     "output_type": "stream",
     "text": [
      ">ABC123\n",
      "ATCGTACGATCGATCGATCGCTAGACGTATCG\n",
      ">DEF456\n",
      "ACTGATCGACGATCGATCGATCACGACT\n",
      ">HIJ789\n",
      "ACTGACACTGTACTGTACATGTG\n"
     ]
    },
    {
     "ename": "NameError",
     "evalue": "name 'secuencia_limpia' is not defined",
     "output_type": "error",
     "traceback": [
      "\u001b[1;31m---------------------------------------------------------------------------\u001b[0m",
      "\u001b[1;31mNameError\u001b[0m                                 Traceback (most recent call last)",
      "Cell \u001b[1;32mIn[11], line 23\u001b[0m\n\u001b[0;32m     21\u001b[0m         secuencia_modificada \u001b[38;5;241m=\u001b[39m limpiar_secuencia(secuencia)\n\u001b[0;32m     22\u001b[0m         fasta_file\u001b[38;5;241m.\u001b[39mwrite(\u001b[38;5;124mf\u001b[39m\u001b[38;5;124m\"\u001b[39m\u001b[38;5;124m>\u001b[39m\u001b[38;5;132;01m{\u001b[39;00midentificador\u001b[38;5;132;01m}\u001b[39;00m\u001b[38;5;130;01m\\n\u001b[39;00m\u001b[38;5;124m\"\u001b[39m)  \n\u001b[1;32m---> 23\u001b[0m         fasta_file\u001b[38;5;241m.\u001b[39mwrite(secuencia_limpia \u001b[38;5;241m+\u001b[39m \u001b[38;5;124m\"\u001b[39m\u001b[38;5;130;01m\\n\u001b[39;00m\u001b[38;5;124m\"\u001b[39m)  \n\u001b[0;32m     25\u001b[0m \u001b[38;5;28mprint\u001b[39m(\u001b[38;5;124mf\u001b[39m\u001b[38;5;124m\"\u001b[39m\u001b[38;5;124mArchivo FASTA generado: \u001b[39m\u001b[38;5;132;01m{\u001b[39;00marchivo_salida\u001b[38;5;132;01m}\u001b[39;00m\u001b[38;5;124m\"\u001b[39m)\n",
      "\u001b[1;31mNameError\u001b[0m: name 'secuencia_limpia' is not defined"
     ]
    }
   ],
   "source": [
    "d = {\n",
    "    'ABC123': 'ATCGTACGATCGATCGATCGCTAGACGTATCG',\n",
    "    'DEF456': 'actgatcgacgatcgatcgatcacgact',\n",
    "    'HIJ789': 'ACTGAC-ACTGT--ACTGTA----CATGTG'\n",
    "}\n",
    "\n",
    "def limpiar_secuencia(secuencia):\n",
    "    secuencia_modificada = ''.join(c for c in secuencia if c in 'ATGCatgc')\n",
    "    return secuencia_modificada.upper()\n",
    "\n",
    "for key in d.keys():\n",
    "    print(f\">{key}\")\n",
    "    secuencia = d[key]\n",
    "    secuencia_modificada = limpiar_secuencia(secuencia)\n",
    "    print(secuencia_modificada)\n",
    "\n",
    "archivo_salida = \"nuevoarchivosecuencias.fasta\"\n",
    "\n",
    "with open(archivo_salida, \"w\") as fasta_file:\n",
    "    for identificador, secuencia in d.items():\n",
    "        secuencia_modificada = limpiar_secuencia(secuencia)\n",
    "        fasta_file.write(f\">{identificador}\\n\")  \n",
    "        fasta_file.write(secuencia_limpia + \"\\n\")  \n",
    "\n",
    "print(f\"Archivo FASTA generado: {archivo_salida}\")"
   ]
  },
  {
   "cell_type": "markdown",
   "metadata": {},
   "source": [
    "EXPLICACIÓN DE CADA PASO\n",
    "\n",
    "Primero generamos un diccionario con los identificadores y las secuencias proporcionadas. Los identificadores son las keys y las secuencias el valor de cada key.\n",
    "Como tenemos algunas letras que están en minúsculas y con guiones, lo primero que tenemos que hacer es reemplazar las letras minúsculas por mayúsculas y eliminar los guiones. Para ello definimos la función limpiar_secuencia (secuencia) y dentro de ella usamos dos funciones:\n",
    "- secuencia_modificada = ''.join(c for c in secuencia if c in 'ATGCatgc') -> nombramos a la nueva secuencia como modificada y con el comando que viene a continuación, eliminamos los guiones. ''Join sirve para concatenar/unir una secuencia de caracteres.c for c in secuencia: recorre cada carácter c en la secuencia original. if c in 'ATGC': verifica que el caracter c esté en el conjunto \"ATGC\". Si el caracter leiído, forma parte de uno de los elementos del conjunto, se incluirá en la nueva secuencia.\n",
    "- return secuencia_modificada.upper() -> estamos diciendo al código que nos devuelva la secuencia_modificada habiéndole cambiado las minúsculas por mayúsculas\n",
    "Ahora generamos un bucle for para ejecutar de forma limitada e iterar a través de los identificadores del diccionario -> for key in d.keys():\n",
    "print(f\">{key}\") -> Estamos diciendo al código que imprima la key, es decir, el identificador en formato fasta (lo indicamos con el símbolo correspondiente a este tipo de archivo (>)\n",
    "secuencia_modificada = limpiar_secuencia(secuencia) -> aplicamos la función generada anteriormente tomando nuestro diccionario como referencia \n",
    "print(secuencia_modificada) -> imprime nuestra secuencia modificada\n",
    "\n",
    "Una vez hemos comprobado que todo esto funciona, ahora queremos generar un nuevo archivo donde se guarden las secuencias modificadas, para ello generamos un archivo de salida llamado nuevoarchivosecuencias.fasta con el comando archivo_salida = \"nuevoarchivosecuencias.fasta\"\n",
    "Posteriormente, queremos que en ese archivo se escriban las nuevas secuencias -> with open(archivo_salida, \"w\") as fasta_file -> el with se usa para que tras abrir el archivo se cierre automáticamente y la w nos aporta la información de que el archivo se está abriendo en modo escritura, es decir, para que se pueda escribir en él. \n",
    "A continuación generamos un nuevo bucle para iterar a través de los identificadores y valores del diccionario -> for identificador, secuencia in d.items():\n",
    "Dentro de ese bucle:\n",
    "- Aplicamos la función de limpiar_secuencia para que se cambie la secuencia original por la nueva generada -> secuencia_modificada = limpiar_secuencia(secuencia)\n",
    "- Escribimos el nombre del identificador en el archivo fasta generado (f\">) e indicamos al código que queremos que tras la escritura de la key, queremos que haya un salto de línea para la secuencia (\\n), es decir, que el identificador vaya en una primera línea y la secuencia se ponga en una segunda -> fasta_file.write(f\">{identificador}\\n\")\n",
    "- Escribimos la secuencia ya con las modificaciones correspondientes y en una nueva línea (\\n) -> fasta_file.write(secuencia_limpia + \"\\n\")\n",
    "Por último, imprimimos un mensaje en el código del nuevo archivo generado -> print(f\"Archivo FASTA generado: {archivo_salida}\")"
   ]
  },
  {
   "cell_type": "markdown",
   "metadata": {},
   "source": [
    "##\n",
    "### 5.- ELIMINA ADAPTADORES\n",
    "#### El archivo input.txt tiene unas secuencias de ADN, una por línea. \n",
    "#### Todas las secuencias empiezan con el mismo adaptador que llega hasta la base 14. Escribe un programa que:\n",
    "1. Remueva el adaptador de la secuencia y escriba la secuencia limpia en un archivo\n",
    "2. Imprima en pantalla la longitud de cada secuencia limpia"
   ]
  },
  {
   "cell_type": "code",
   "execution_count": 12,
   "metadata": {},
   "outputs": [],
   "source": [
    "miarchivo = open('input.txt')"
   ]
  },
  {
   "cell_type": "code",
   "execution_count": 13,
   "metadata": {},
   "outputs": [
    {
     "data": {
      "text/plain": [
       "'ATTCGATTATAAGCTCGATCGATCGATCGATCGATCGATCGATCGATCGATCGATC\\nATTCGATTATAAGCACTGATCGATCGATCGATCGATCGATGCTATCGTCGT\\nATTCGATTATAAGCATCGATCACGATCTATCGTACGTATGCATATCGATATCGATCGTAGTC\\nATTCGATTATAAGCACTATCGATGATCTAGCTACGATCGTAGCTGTA\\nATTCGATTATAAGCACTAGCTAGTCTCGATGCATGATCAGCTTAGCTGATGATGCTATGCA'"
      ]
     },
     "execution_count": 13,
     "metadata": {},
     "output_type": "execute_result"
    }
   ],
   "source": [
    "# Leemos el archivo\n",
    "miarchivo.read()"
   ]
  },
  {
   "cell_type": "code",
   "execution_count": 20,
   "metadata": {},
   "outputs": [
    {
     "name": "stdout",
     "output_type": "stream",
     "text": [
      "Longitud de la secuencia limpia: 42\n",
      "Longitud de la secuencia limpia: 37\n",
      "Longitud de la secuencia limpia: 48\n",
      "Longitud de la secuencia limpia: 33\n",
      "Longitud de la secuencia limpia: 47\n"
     ]
    }
   ],
   "source": [
    "# Nombra el archivo de entrada y salida\n",
    "mi_archivo_entrada = \"input.txt\"\n",
    "mi_archivo_salida = \"secuencias_limpias.txt\"\n",
    "\n",
    "longitud_adaptador = 14\n",
    "\n",
    "with open(mi_archivo_entrada, \"r\") as input_file:\n",
    "    with open(mi_archivo_salida, \"w\") as output_file:\n",
    "        for linea in input_file:\n",
    "            secuencia_limpia = linea[longitud_adaptador:].strip()\n",
    "            output_file.write(secuencia_limpia + \"\\n\")\n",
    "            longitud = len(secuencia_limpia)\n",
    "            print(f\"Longitud de la secuencia limpia: {longitud}\")"
   ]
  },
  {
   "cell_type": "markdown",
   "metadata": {},
   "source": [
    "EXPLICACIÓN DE CADA PASO \n",
    "\n",
    "with open(mi_archivo_entrada, \"r\") as input_file: -> Abre el archivo de entrada para leerlo sin necesidad de cerrarlo porque lo hace automáticamente (lo marcamos con la \"r\")\n",
    "\n",
    "with open(mi_archivo_salida, \"w\") as output_file: -> Abre el archivo de salida para escribir (lo marcamos con la \"w\")\n",
    "\n",
    "for linea in input_file: -> para cada línea en el archivo input \n",
    "\n",
    "secuencia_limpia = linea[longitud_adaptador:].strip() -> toma la línea de entrada, elimina el adaptador y cualquier espacio en blanco adicional, y almacena la secuencia de ADN limpia en la variable secuencia_limpia, que después escribirá en el archivo de salida.\n",
    "\n",
    "output_file.write(secuencia_limpia + \"\\n\") -> escribe la secuencia limpia en el archivo de salida. El \"\\n\" indica que cada secuencia limpia esté en una línea diferente\n",
    "\n",
    "longitud = len(secuencia_limpia)-> calcula la longitud de cada secuencia limpia\n",
    "\n",
    "print(f\"Longitud de la secuencia limpia: {longitud}\") -> imprime lo que queremos. La f\" indica lo que queremos que escriba al ejecutar el comando, en este caso, longitud de la secuencia limpia. Y {longitud} indica que este nombre cambiará por el valor de la variable en cuestión"
   ]
  },
  {
   "cell_type": "markdown",
   "metadata": {},
   "source": [
    "##\n",
    "### 6.- PORCENTAJE DE AMINO ACIDOS\n",
    "#### Escribe una función que tome dos argumentos: una secuencia de proteínas y un amino ácido. \n",
    "#### Queremos que devuelva el porcentaje del amino ácido en la secuencia de proteínas. \n",
    "#### Una vez que tengas hecha tu función, emplea las siguientes aserciones para comprobar tu código."
   ]
  },
  {
   "cell_type": "code",
   "execution_count": 16,
   "metadata": {},
   "outputs": [
    {
     "name": "stdout",
     "output_type": "stream",
     "text": [
      "El porcentaje de M en la secuencia es 5.0\n"
     ]
    }
   ],
   "source": [
    "proteina = \"MSRSLLLRFLLFLLLLPPLP\"\n",
    "aminoacido = \"M\"\n",
    "\n",
    "def calcular_porcentaje_aminoacido(proteina, aminoacido):\n",
    "    proteina = proteina.upper()  \n",
    "    aminoacido = aminoacido.upper()  \n",
    "    if aminoacido in \"MSRSLLLRFLLFLLLLPPLP\":  \n",
    "        conteo_aminoacido = proteina.count(aminoacido)  \n",
    "        longitud_secuencia = len(proteina)  \n",
    "        porcentaje = (conteo_aminoacido / longitud_secuencia) * 100  \n",
    "        return porcentaje\n",
    "    else:\n",
    "        return \"0\"\n",
    "\n",
    "porcentaje = calcular_porcentaje_aminoacido(proteina, aminoacido)\n",
    "print(f\"El porcentaje de {aminoacido} en la secuencia es {porcentaje}\")"
   ]
  },
  {
   "cell_type": "code",
   "execution_count": 176,
   "metadata": {
    "scrolled": false
   },
   "outputs": [
    {
     "ename": "AssertionError",
     "evalue": "",
     "output_type": "error",
     "traceback": [
      "\u001b[1;31m---------------------------------------------------------------------------\u001b[0m",
      "\u001b[1;31mAssertionError\u001b[0m                            Traceback (most recent call last)",
      "Cell \u001b[1;32mIn[176], line 1\u001b[0m\n\u001b[1;32m----> 1\u001b[0m \u001b[38;5;28;01massert\u001b[39;00m my_function(\u001b[38;5;124m\"\u001b[39m\u001b[38;5;124mMSRSLLLRFLLFLLLLPPLP\u001b[39m\u001b[38;5;124m\"\u001b[39m, \u001b[38;5;124m\"\u001b[39m\u001b[38;5;124mM\u001b[39m\u001b[38;5;124m\"\u001b[39m) \u001b[38;5;241m==\u001b[39m \u001b[38;5;241m5\u001b[39m\n\u001b[0;32m      2\u001b[0m \u001b[38;5;28;01massert\u001b[39;00m my_function(\u001b[38;5;124m\"\u001b[39m\u001b[38;5;124mMSRSLLLRFLLFLLLLPPLP\u001b[39m\u001b[38;5;124m\"\u001b[39m, \u001b[38;5;124m\"\u001b[39m\u001b[38;5;124mr\u001b[39m\u001b[38;5;124m\"\u001b[39m) \u001b[38;5;241m==\u001b[39m \u001b[38;5;241m10\u001b[39m\n\u001b[0;32m      3\u001b[0m \u001b[38;5;28;01massert\u001b[39;00m my_function(\u001b[38;5;124m\"\u001b[39m\u001b[38;5;124mmsrslllrfllfllllpplp\u001b[39m\u001b[38;5;124m\"\u001b[39m, \u001b[38;5;124m\"\u001b[39m\u001b[38;5;124mL\u001b[39m\u001b[38;5;124m\"\u001b[39m) \u001b[38;5;241m==\u001b[39m \u001b[38;5;241m50\u001b[39m\n",
      "\u001b[1;31mAssertionError\u001b[0m: "
     ]
    }
   ],
   "source": [
    "# Esto es lo que nos ha dado Irene para que podamos comprobar el código\n",
    "assert my_function(\"MSRSLLLRFLLFLLLLPPLP\", \"M\") == 5\n",
    "assert my_function(\"MSRSLLLRFLLFLLLLPPLP\", \"r\") == 10\n",
    "assert my_function(\"msrslllrfllfllllpplp\", \"L\") == 50\n",
    "assert my_function(\"MSRSLLLRFLLFLLLLPPLP\", \"Y\") == 0"
   ]
  },
  {
   "cell_type": "markdown",
   "metadata": {},
   "source": [
    "EXPLICACIÓN DE CADA PASO \n",
    "1. Comenzamos defininiendo una secuencia de proteínas y de aminoácidos como ejemplo (lo podremos ir cambiando para saber el porcentaje de cada aminoácido en la secuencia)\n",
    "2. Definimos la función que nos va a realizar este porcentaje --> calcular_porcentaje_aminoacido\n",
    "3. Indicamos y convertimos la secuencia de proteína a mayúscula --> proteina.upper\n",
    "4. Indicamos y convertimos la secuencia de aminoácidos a mayúscula --> aminoacido.upper\n",
    "5. Verificamos que el aminoácido se encuentre en la secuencia de nuestra proteína --> if aminoacido in \"MSRSLLLRFLLFLLLLPPLP\":\n",
    "6. Contamos las veces que aparece el aminoácido en la secuencia de proteína --> conteo_aminoacido = proteina.count(aminoacido)\n",
    "7. Calculamos la longitud de la secuencia de proteína --> longitud_secuencia = len(proteina)\n",
    "8. Los dos pasos anteriores nos sirven para poder calcular el porcentaje del aminoácido en la secuencia--> porcentaje = (conteo_aminoacido / longitud_secuencia) * 100\n",
    "9. Obtenemos el valor del porcentaje --> return porcentaje\n",
    "10. Si observamos que el aminoácido no se encuentra en la secuencia de proteínas, entonces tendremos un mensaje de \"0\" --> else:  return \"0\"\n",
    "11. Con la función print (f\"\") pedimos que nos salga el mensaje que nosotros queremos, en este caso (f\"El porcentaje de {aminoacido} en la secuencia es {porcentaje}\")"
   ]
  }
 ],
 "metadata": {
  "kernelspec": {
   "display_name": "Python 3 (ipykernel)",
   "language": "python",
   "name": "python3"
  },
  "language_info": {
   "codemirror_mode": {
    "name": "ipython",
    "version": 3
   },
   "file_extension": ".py",
   "mimetype": "text/x-python",
   "name": "python",
   "nbconvert_exporter": "python",
   "pygments_lexer": "ipython3",
   "version": "3.11.4"
  }
 },
 "nbformat": 4,
 "nbformat_minor": 4
}
