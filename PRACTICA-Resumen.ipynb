{
 "cells": [
  {
   "cell_type": "markdown",
   "id": "985e6f9b",
   "metadata": {},
   "source": [
    "# PRACTICA 6\n",
    "\n",
    "### ¡Con todo lo aprendido con Python, vamos a resolver unos ejercicios de Bioinformática!\n",
    "\n",
    "#### 1.- Concatena las cadenas ATGCC y TCCG"
   ]
  },
  {
   "cell_type": "code",
   "execution_count": 2,
   "id": "e00eca4b",
   "metadata": {},
   "outputs": [],
   "source": [
    "a=\"ATGCC\"\n",
    "b=\"TCCG\""
   ]
  },
  {
   "cell_type": "code",
   "execution_count": 3,
   "id": "2030d7d6",
   "metadata": {},
   "outputs": [
    {
     "data": {
      "text/plain": [
       "'ATGCCTCCG'"
      ]
     },
     "execution_count": 3,
     "metadata": {},
     "output_type": "execute_result"
    }
   ],
   "source": [
    "a+b # Si quisierámos guardarlo, damos una variable"
   ]
  },
  {
   "cell_type": "markdown",
   "id": "1f4b7708",
   "metadata": {},
   "source": [
    "#### 2.- ¿Cuál es la longitud de ATGCGAGT?"
   ]
  },
  {
   "cell_type": "code",
   "execution_count": 4,
   "id": "8f78cad8",
   "metadata": {},
   "outputs": [],
   "source": [
    "dna=\"ATGCGAGT\""
   ]
  },
  {
   "cell_type": "code",
   "execution_count": 5,
   "id": "24efc8df",
   "metadata": {},
   "outputs": [
    {
     "data": {
      "text/plain": [
       "8"
      ]
     },
     "execution_count": 5,
     "metadata": {},
     "output_type": "execute_result"
    }
   ],
   "source": [
    "len (dna)"
   ]
  },
  {
   "cell_type": "markdown",
   "id": "6361c287",
   "metadata": {},
   "source": [
    "#### 3.- Con la cadena mgXDyTw, ponla en mayúsculas, luego en minúsculas. Extrae su longitud y divide la cadena por la letra \"g\""
   ]
  },
  {
   "cell_type": "code",
   "execution_count": 7,
   "id": "b69beca1",
   "metadata": {},
   "outputs": [],
   "source": [
    "cadena=\"mgXDyTw\""
   ]
  },
  {
   "cell_type": "code",
   "execution_count": 8,
   "id": "7fb59f92",
   "metadata": {},
   "outputs": [
    {
     "data": {
      "text/plain": [
       "'MGXDYTW'"
      ]
     },
     "execution_count": 8,
     "metadata": {},
     "output_type": "execute_result"
    }
   ],
   "source": [
    "# Mayúsculas\n",
    "cadena.upper()"
   ]
  },
  {
   "cell_type": "code",
   "execution_count": 9,
   "id": "2ff9f1ff",
   "metadata": {},
   "outputs": [
    {
     "data": {
      "text/plain": [
       "'mgxdytw'"
      ]
     },
     "execution_count": 9,
     "metadata": {},
     "output_type": "execute_result"
    }
   ],
   "source": [
    "cadena.lower()"
   ]
  },
  {
   "cell_type": "code",
   "execution_count": 10,
   "id": "b47eb5cc",
   "metadata": {},
   "outputs": [
    {
     "data": {
      "text/plain": [
       "7"
      ]
     },
     "execution_count": 10,
     "metadata": {},
     "output_type": "execute_result"
    }
   ],
   "source": [
    "len (cadena)"
   ]
  },
  {
   "cell_type": "code",
   "execution_count": 13,
   "id": "c55744ec",
   "metadata": {},
   "outputs": [
    {
     "data": {
      "text/plain": [
       "'mgxdytw'"
      ]
     },
     "execution_count": 13,
     "metadata": {},
     "output_type": "execute_result"
    }
   ],
   "source": [
    "# Guardamos el resultado de minúsculas en una variable para después dividir la cadena por g\n",
    "cadena_min =cadena.lower()\n",
    "cadena_min"
   ]
  },
  {
   "cell_type": "code",
   "execution_count": 14,
   "id": "349c2cda",
   "metadata": {},
   "outputs": [
    {
     "data": {
      "text/plain": [
       "['m', 'xdytw']"
      ]
     },
     "execution_count": 14,
     "metadata": {},
     "output_type": "execute_result"
    }
   ],
   "source": [
    "cadena_min.split(\"g\")"
   ]
  },
  {
   "cell_type": "markdown",
   "id": "91c2ca9d",
   "metadata": {},
   "source": [
    "#### 4.- Con la secuencia de aminoácidos vlspadktnv, reemplaza la valina con la tirosina. Pista: usa replace()"
   ]
  },
  {
   "cell_type": "code",
   "execution_count": 15,
   "id": "a049ecdd",
   "metadata": {},
   "outputs": [],
   "source": [
    "aa = \"vlspadktnv\""
   ]
  },
  {
   "cell_type": "code",
   "execution_count": 22,
   "id": "690e5270",
   "metadata": {
    "scrolled": true
   },
   "outputs": [
    {
     "data": {
      "text/plain": [
       "'ylspadktny'"
      ]
     },
     "execution_count": 22,
     "metadata": {},
     "output_type": "execute_result"
    }
   ],
   "source": [
    "aa.replace(\"v\",\"y\")"
   ]
  },
  {
   "cell_type": "code",
   "execution_count": 26,
   "id": "a89e9c71",
   "metadata": {},
   "outputs": [
    {
     "data": {
      "text/plain": [
       "'ylspadktny'"
      ]
     },
     "execution_count": 26,
     "metadata": {},
     "output_type": "execute_result"
    }
   ],
   "source": [
    "# Vemos que no se nos ha guardado y creamos una variable para que se guarde\n",
    "aa_replace=aa.replace(\"v\",\"y\")\n",
    "aa_replace"
   ]
  },
  {
   "cell_type": "markdown",
   "id": "97f9ecd6",
   "metadata": {},
   "source": [
    "#### 5.- Cuenta las valinas de la secuencia original anterior."
   ]
  },
  {
   "cell_type": "code",
   "execution_count": 29,
   "id": "5a0beecf",
   "metadata": {},
   "outputs": [
    {
     "name": "stdout",
     "output_type": "stream",
     "text": [
      "Valinas:2\n"
     ]
    }
   ],
   "source": [
    "valinas=aa.count(\"v\") # El f' nos permite meter directamente el valor de la variable y lo metemos entre {}\n",
    "print(f'Valinas:{valinas}')"
   ]
  },
  {
   "cell_type": "markdown",
   "id": "6aac8e24",
   "metadata": {},
   "source": [
    "#### 6.- Con el diccionario siguiente imprime el valor de BisI y saca el valor de EcoRI con pop(). ¿Qué pasa con el diccionario?"
   ]
  },
  {
   "cell_type": "code",
   "execution_count": 31,
   "id": "c0c811d7",
   "metadata": {},
   "outputs": [],
   "source": [
    "enzR = {\n",
    "    'EcoRI':r'GAATTC',             #Tenemos un diccionario con las enzimas de restricción y el valor son los puntos de corte\n",
    "    'AvaII':r'GG(A|T)CC',\n",
    "    'BisI':r'GC[ATGC]GC'\n",
    "}"
   ]
  },
  {
   "cell_type": "code",
   "execution_count": 32,
   "id": "2a56b427",
   "metadata": {},
   "outputs": [
    {
     "data": {
      "text/plain": [
       "'GC[ATGC]GC'"
      ]
     },
     "execution_count": 32,
     "metadata": {},
     "output_type": "execute_result"
    }
   ],
   "source": [
    "enzR['BisI']"
   ]
  },
  {
   "cell_type": "code",
   "execution_count": 34,
   "id": "bb3650dd",
   "metadata": {},
   "outputs": [
    {
     "data": {
      "text/plain": [
       "'GAATTC'"
      ]
     },
     "execution_count": 34,
     "metadata": {},
     "output_type": "execute_result"
    }
   ],
   "source": [
    "enzR.pop('EcoRI')  # Usando pop perdemos un elemento, en este caso EcoRI"
   ]
  },
  {
   "cell_type": "code",
   "execution_count": 35,
   "id": "2589e460",
   "metadata": {},
   "outputs": [
    {
     "data": {
      "text/plain": [
       "{'AvaII': 'GG(A|T)CC', 'BisI': 'GC[ATGC]GC'}"
      ]
     },
     "execution_count": 35,
     "metadata": {},
     "output_type": "execute_result"
    }
   ],
   "source": [
    "enzR # Comprobamos que hemos perdido un elemento "
   ]
  },
  {
   "cell_type": "markdown",
   "id": "4646bddd",
   "metadata": {},
   "source": [
    "#### 7.- Con la secuencia y la lista siguiente, escribe un algoritmo que cuente el número de veces que aparece un elemento de la lista en la secuencia. Pista: hacer un diccionario para almacenar los resultados puede ser buena idea"
   ]
  },
  {
   "cell_type": "code",
   "execution_count": 36,
   "id": "0a701a5e",
   "metadata": {},
   "outputs": [],
   "source": [
    "dna = \"AATGATGAACGAC\" \n",
    "dinucleotides = ['AA','AT','AG','AC', \n",
    "                 'TA','TT','TG','TC', \n",
    "                 'GA','GT','GG','GC', \n",
    "                 'CA','CT','CG','CT'] "
   ]
  },
  {
   "cell_type": "code",
   "execution_count": 37,
   "id": "239e520f",
   "metadata": {},
   "outputs": [
    {
     "name": "stdout",
     "output_type": "stream",
     "text": [
      "AA\n",
      "AT\n",
      "AG\n",
      "AC\n",
      "TA\n",
      "TT\n",
      "TG\n",
      "TC\n",
      "GA\n",
      "GT\n",
      "GG\n",
      "GC\n",
      "CA\n",
      "CT\n",
      "CG\n",
      "CT\n"
     ]
    }
   ],
   "source": [
    "for dnt in dinucleotides:\n",
    "    print(dnt)"
   ]
  },
  {
   "cell_type": "code",
   "execution_count": 39,
   "id": "4d360ffd",
   "metadata": {
    "scrolled": true
   },
   "outputs": [
    {
     "name": "stdout",
     "output_type": "stream",
     "text": [
      "AA\n",
      "2\n",
      "AT\n",
      "2\n",
      "AG\n",
      "0\n",
      "AC\n",
      "2\n",
      "TA\n",
      "0\n",
      "TT\n",
      "0\n",
      "TG\n",
      "2\n",
      "TC\n",
      "0\n",
      "GA\n",
      "3\n",
      "GT\n",
      "0\n",
      "GG\n",
      "0\n",
      "GC\n",
      "0\n",
      "CA\n",
      "0\n",
      "CT\n",
      "0\n",
      "CG\n",
      "1\n",
      "CT\n",
      "0\n"
     ]
    }
   ],
   "source": [
    "# Contamos el nº de veces que aparece el elemento en mi cadena. Imprime el elemento y el nº de veces\n",
    "for dnt in dinucleotides:\n",
    "    conteo=dna.count (dnt)\n",
    "    print(dnt)\n",
    "    print(conteo)"
   ]
  },
  {
   "cell_type": "code",
   "execution_count": 40,
   "id": "d4c6a6a2",
   "metadata": {
    "scrolled": true
   },
   "outputs": [
    {
     "data": {
      "text/plain": [
       "{'AA': 2,\n",
       " 'AT': 2,\n",
       " 'AG': 0,\n",
       " 'AC': 2,\n",
       " 'TA': 0,\n",
       " 'TT': 0,\n",
       " 'TG': 2,\n",
       " 'TC': 0,\n",
       " 'GA': 3,\n",
       " 'GT': 0,\n",
       " 'GG': 0,\n",
       " 'GC': 0,\n",
       " 'CA': 0,\n",
       " 'CT': 0,\n",
       " 'CG': 1}"
      ]
     },
     "execution_count": 40,
     "metadata": {},
     "output_type": "execute_result"
    }
   ],
   "source": [
    "# Creamos un diccionario. La key sería cada dinucleótido y el valor el nº de veces que se repite\n",
    "dict_dnt={}\n",
    "for dnt in dinucleotides:\n",
    "    conteo=dna.count (dnt)\n",
    "    dict_dnt[dnt]=conteo # Creamos elementos en un diccionario. El [] indica la key y el =conteo es el valor\n",
    "dict_dnt"
   ]
  },
  {
   "cell_type": "code",
   "execution_count": 44,
   "id": "f660db16",
   "metadata": {},
   "outputs": [
    {
     "data": {
      "text/plain": [
       "2"
      ]
     },
     "execution_count": 44,
     "metadata": {},
     "output_type": "execute_result"
    }
   ],
   "source": [
    "# Si quiero acceder al diccionario\n",
    "dict_dnt['AA']"
   ]
  },
  {
   "cell_type": "markdown",
   "id": "a44b5e4c",
   "metadata": {},
   "source": [
    "##### ¿Cuántos counts tiene TC?"
   ]
  },
  {
   "cell_type": "code",
   "execution_count": 45,
   "id": "74cea684",
   "metadata": {},
   "outputs": [
    {
     "data": {
      "text/plain": [
       "0"
      ]
     },
     "execution_count": 45,
     "metadata": {},
     "output_type": "execute_result"
    }
   ],
   "source": [
    "dict_dnt ['TC']"
   ]
  },
  {
   "cell_type": "markdown",
   "id": "70245f18",
   "metadata": {},
   "source": [
    "##### ¿Puedes imprimir los dinuleótidos que tengan counts igual a 2?"
   ]
  },
  {
   "cell_type": "code",
   "execution_count": 46,
   "id": "d7772331",
   "metadata": {
    "scrolled": true
   },
   "outputs": [
    {
     "name": "stdout",
     "output_type": "stream",
     "text": [
      "AA\n",
      "AT\n",
      "AG\n",
      "AC\n",
      "TA\n",
      "TT\n",
      "TG\n",
      "TC\n",
      "GA\n",
      "GT\n",
      "GG\n",
      "GC\n",
      "CA\n",
      "CT\n",
      "CG\n"
     ]
    }
   ],
   "source": [
    "for key in dict_dnt.keys(): # Esto es para sacar las keys\n",
    "    print(key)"
   ]
  },
  {
   "cell_type": "code",
   "execution_count": 48,
   "id": "4902a63e",
   "metadata": {},
   "outputs": [
    {
     "name": "stdout",
     "output_type": "stream",
     "text": [
      "La key AA tiene el valor 2\n",
      "La key AT tiene el valor 2\n",
      "La key AG tiene el valor 0\n",
      "La key AC tiene el valor 2\n",
      "La key TA tiene el valor 0\n",
      "La key TT tiene el valor 0\n",
      "La key TG tiene el valor 2\n",
      "La key TC tiene el valor 0\n",
      "La key GA tiene el valor 3\n",
      "La key GT tiene el valor 0\n",
      "La key GG tiene el valor 0\n",
      "La key GC tiene el valor 0\n",
      "La key CA tiene el valor 0\n",
      "La key CT tiene el valor 0\n",
      "La key CG tiene el valor 1\n"
     ]
    }
   ],
   "source": [
    "for key in dict_dnt.keys():  #Hemos sacado del diccionario todos los nucleótidos \n",
    "    valor=dict_dnt[key]\n",
    "    print(f'La key {key} tiene el valor {valor}')"
   ]
  },
  {
   "cell_type": "code",
   "execution_count": 52,
   "id": "eabf2a77",
   "metadata": {},
   "outputs": [
    {
     "name": "stdout",
     "output_type": "stream",
     "text": [
      "La key AA tiene el valor 2\n",
      "La key AT tiene el valor 2\n",
      "La key AC tiene el valor 2\n",
      "La key TG tiene el valor 2\n"
     ]
    }
   ],
   "source": [
    "for key in dict_dnt.keys():   \n",
    "    valor=dict_dnt[key]\n",
    "    if valor==2:\n",
    "        print(f'La key {key} tiene el valor {valor}')"
   ]
  },
  {
   "cell_type": "code",
   "execution_count": 53,
   "id": "72ee631f",
   "metadata": {},
   "outputs": [
    {
     "name": "stdout",
     "output_type": "stream",
     "text": [
      "AA\n",
      "AC\n",
      "AT\n",
      "TG\n"
     ]
    }
   ],
   "source": [
    "for i in sorted (dict_dnt.keys()):   # Sorted lo usamos para que el output salga por orden alfabético\n",
    "    if dict_dnt[i]==2:\n",
    "        print(i)"
   ]
  },
  {
   "cell_type": "markdown",
   "id": "28748e51",
   "metadata": {},
   "source": [
    "##### 8.- Abre el fichero dna.txt, guarda una lista del contenido del archivo. Devuelve su longitud y su primer caracter"
   ]
  },
  {
   "cell_type": "markdown",
   "id": "cde01a9d",
   "metadata": {},
   "source": [
    "En R para abrir archivos usábamos read.table"
   ]
  },
  {
   "cell_type": "code",
   "execution_count": 61,
   "id": "2d430f33",
   "metadata": {},
   "outputs": [],
   "source": [
    "file=open(\"dna.txt\")"
   ]
  },
  {
   "cell_type": "code",
   "execution_count": 55,
   "id": "d95d9875",
   "metadata": {
    "scrolled": true
   },
   "outputs": [
    {
     "data": {
      "text/plain": [
       "<_io.TextIOWrapper name='dna.txt' mode='r' encoding='cp1252'>"
      ]
     },
     "execution_count": 55,
     "metadata": {},
     "output_type": "execute_result"
    }
   ],
   "source": [
    "file"
   ]
  },
  {
   "cell_type": "code",
   "execution_count": 62,
   "id": "f5814a80",
   "metadata": {},
   "outputs": [],
   "source": [
    "all_lines = file.readlines() "
   ]
  },
  {
   "cell_type": "code",
   "execution_count": 63,
   "id": "dec3eec1",
   "metadata": {},
   "outputs": [],
   "source": [
    "file.close()"
   ]
  },
  {
   "cell_type": "code",
   "execution_count": 64,
   "id": "d60f7d62",
   "metadata": {
    "scrolled": true
   },
   "outputs": [
    {
     "data": {
      "text/plain": [
       "['ATCGATCGATCGATCGACTGACTAGTCATAGCTATGCATGTAGCTACTCGATCGATCGATCGATCGATCGATCGATCGATCGATCATGCTATCATCGATCGATATCGATGCATCGACTACTAT']"
      ]
     },
     "execution_count": 64,
     "metadata": {},
     "output_type": "execute_result"
    }
   ],
   "source": [
    "all_lines"
   ]
  },
  {
   "cell_type": "code",
   "execution_count": 65,
   "id": "1d90301a",
   "metadata": {
    "scrolled": true
   },
   "outputs": [
    {
     "data": {
      "text/plain": [
       "1"
      ]
     },
     "execution_count": 65,
     "metadata": {},
     "output_type": "execute_result"
    }
   ],
   "source": [
    "# Ver la longitud del archivo\n",
    "len (all_lines) "
   ]
  },
  {
   "cell_type": "code",
   "execution_count": 66,
   "id": "ded1eb4b",
   "metadata": {},
   "outputs": [
    {
     "data": {
      "text/plain": [
       "123"
      ]
     },
     "execution_count": 66,
     "metadata": {},
     "output_type": "execute_result"
    }
   ],
   "source": [
    "# Extraer el primer caracter. Ponemos 0 porque solo tenemos un caracter\n",
    "len (all_lines[0])"
   ]
  },
  {
   "cell_type": "code",
   "execution_count": 68,
   "id": "f32ff332",
   "metadata": {},
   "outputs": [
    {
     "data": {
      "text/plain": [
       "'ATCGATCGATCGATCGACTGACTAGTCATAGCTATGCATGTAGCTACTCGATCGATCGATCGATCGATCGATCGATCGATCGATCATGCTATCATCGATCGATATCGATGCATCGACTACTAT'"
      ]
     },
     "execution_count": 68,
     "metadata": {},
     "output_type": "execute_result"
    }
   ],
   "source": [
    "# Esto lo hacemos para guardar la cadena extraída\n",
    "cadena_dna=all_lines[0] \n",
    "cadena_dna"
   ]
  },
  {
   "cell_type": "code",
   "execution_count": 69,
   "id": "fdba435d",
   "metadata": {},
   "outputs": [
    {
     "data": {
      "text/plain": [
       "'A'"
      ]
     },
     "execution_count": 69,
     "metadata": {},
     "output_type": "execute_result"
    }
   ],
   "source": [
    "cadena_dna[0]"
   ]
  },
  {
   "cell_type": "code",
   "execution_count": 70,
   "id": "708a6a4b",
   "metadata": {},
   "outputs": [
    {
     "data": {
      "text/plain": [
       "'A'"
      ]
     },
     "execution_count": 70,
     "metadata": {},
     "output_type": "execute_result"
    }
   ],
   "source": [
    "# Si no queremos extraer todo el texto podemos:\n",
    "all_lines[0][0]"
   ]
  },
  {
   "cell_type": "markdown",
   "id": "9b87396a",
   "metadata": {},
   "source": [
    "##### 9.- Crea dos archivos. Uno almacena los accession que empiezen por 'a' y el otro el resto"
   ]
  },
  {
   "cell_type": "code",
   "execution_count": 88,
   "id": "73957856",
   "metadata": {},
   "outputs": [],
   "source": [
    "accs = ['ab56', 'bh84', 'hv76', 'ay93', 'ap97', 'bd72']"
   ]
  },
  {
   "cell_type": "code",
   "execution_count": 99,
   "id": "e38afd43",
   "metadata": {},
   "outputs": [],
   "source": [
    "# Usamos open que usamos tanto para abrir como para crear archivos. La w reescribe el contenido del archivo. Si no quisiéramos reescribirlo pondríamos una a\n",
    "file1=open(\"acc_.txt\",\"w\")\n",
    "file2=open(\"acc_resto_.txt\",\"w\")"
   ]
  },
  {
   "cell_type": "code",
   "execution_count": 90,
   "id": "5d1313ef",
   "metadata": {},
   "outputs": [
    {
     "name": "stdout",
     "output_type": "stream",
     "text": [
      "ab56\n",
      "ay93\n",
      "ap97\n"
     ]
    }
   ],
   "source": [
    "for acc in accs:\n",
    "    if acc.startswith(\"a\"):   # Si no ponemos la letra nos sacaría la primera letra por defecto\n",
    "        print(acc)"
   ]
  },
  {
   "cell_type": "code",
   "execution_count": 91,
   "id": "bf0603c0",
   "metadata": {},
   "outputs": [
    {
     "name": "stdout",
     "output_type": "stream",
     "text": [
      "ab56\n",
      "ay93\n",
      "ap97\n"
     ]
    }
   ],
   "source": [
    "# Si mi elemento empieza por el elemento a, escribimos en el fichero\n",
    "for acc in accs:\n",
    "    if acc.startswith('a'): \n",
    "        file1.write(acc)\n",
    "        print(acc)"
   ]
  },
  {
   "cell_type": "code",
   "execution_count": 100,
   "id": "fcc22107",
   "metadata": {},
   "outputs": [
    {
     "name": "stdout",
     "output_type": "stream",
     "text": [
      "bh84\n",
      "hv76\n",
      "bd72\n"
     ]
    }
   ],
   "source": [
    "for acc in accs:\n",
    "    if acc.startswith('a'): \n",
    "        file1.write(acc+'\\n')\n",
    "    else:\n",
    "        file2.write(acc+'\\n')\n",
    "        print(acc)"
   ]
  },
  {
   "cell_type": "markdown",
   "id": "9cbb4adf",
   "metadata": {},
   "source": [
    "##### 10.- Imprime solamente los accessions de la lista anterior que empiecen por 'a' y no acaben con '6'. Pista: usa endswith() y startswidth()"
   ]
  },
  {
   "cell_type": "code",
   "execution_count": 103,
   "id": "2465a22c",
   "metadata": {},
   "outputs": [
    {
     "name": "stdout",
     "output_type": "stream",
     "text": [
      "ay93\n",
      "ap97\n"
     ]
    }
   ],
   "source": [
    "for acc in accs:\n",
    "    if acc.startswith('a') and not acc.endswith ('6'):\n",
    "        print(acc)"
   ]
  },
  {
   "cell_type": "markdown",
   "id": "42c397b0",
   "metadata": {},
   "source": [
    "##### 11.- Escribe una función que cuente el porcentaje de AT de una secuencia"
   ]
  },
  {
   "cell_type": "code",
   "execution_count": 113,
   "id": "06f579c2",
   "metadata": {},
   "outputs": [],
   "source": [
    "dna = \"AATGATGAACGAC\" "
   ]
  },
  {
   "cell_type": "code",
   "execution_count": 114,
   "id": "f53d53e8",
   "metadata": {},
   "outputs": [
    {
     "data": {
      "text/plain": [
       "6"
      ]
     },
     "execution_count": 114,
     "metadata": {},
     "output_type": "execute_result"
    }
   ],
   "source": [
    "# Contamos nº de A\n",
    "num_a=dna.count('A')\n",
    "num_a"
   ]
  },
  {
   "cell_type": "code",
   "execution_count": 115,
   "id": "5c78482a",
   "metadata": {},
   "outputs": [
    {
     "data": {
      "text/plain": [
       "2"
      ]
     },
     "execution_count": 115,
     "metadata": {},
     "output_type": "execute_result"
    }
   ],
   "source": [
    "# Contamos nº de T\n",
    "num_t=dna.count('T')\n",
    "num_t"
   ]
  },
  {
   "cell_type": "code",
   "execution_count": 116,
   "id": "36cad828",
   "metadata": {},
   "outputs": [],
   "source": [
    "num_at=num_a+num_t"
   ]
  },
  {
   "cell_type": "code",
   "execution_count": 109,
   "id": "4d0488b8",
   "metadata": {},
   "outputs": [
    {
     "data": {
      "text/plain": [
       "13"
      ]
     },
     "execution_count": 109,
     "metadata": {},
     "output_type": "execute_result"
    }
   ],
   "source": [
    "longitud=len(dna)\n",
    "longitud"
   ]
  },
  {
   "cell_type": "code",
   "execution_count": 119,
   "id": "5aa0c76e",
   "metadata": {},
   "outputs": [
    {
     "data": {
      "text/plain": [
       "61.53846153846154"
      ]
     },
     "execution_count": 119,
     "metadata": {},
     "output_type": "execute_result"
    }
   ],
   "source": [
    "porcentaje_at=(num_at/longitud)*100\n",
    "porcentaje_at"
   ]
  },
  {
   "cell_type": "code",
   "execution_count": 120,
   "id": "9e2061bf",
   "metadata": {},
   "outputs": [],
   "source": [
    "def get_at_percentaje(secuencia):\n",
    "    num_a=secuencia.count('A')\n",
    "    num_t=secuencia.count('T')\n",
    "    num_at=num_a+num_t\n",
    "    longitud=len(secuencia)\n",
    "    porcentaje_at=(num_at/longitud)*100\n",
    "    return porcentaje_at"
   ]
  },
  {
   "cell_type": "code",
   "execution_count": 121,
   "id": "dd77240f",
   "metadata": {},
   "outputs": [
    {
     "data": {
      "text/plain": [
       "61.53846153846154"
      ]
     },
     "execution_count": 121,
     "metadata": {},
     "output_type": "execute_result"
    }
   ],
   "source": [
    "# Si queremos usar la función\n",
    "get_at_percentaje(dna)"
   ]
  },
  {
   "cell_type": "markdown",
   "id": "054b8f51",
   "metadata": {},
   "source": [
    "##### ¿Puedes hacer que devuelva un decimal? ¿Y que lidie con mayúsculas y minúsculas?"
   ]
  },
  {
   "cell_type": "code",
   "execution_count": 127,
   "id": "8f81e89e",
   "metadata": {},
   "outputs": [],
   "source": [
    "def get_at_percentaje(secuencia):\n",
    "    num_a=secuencia.count('A')\n",
    "    num_t=secuencia.count('T')\n",
    "    num_at=num_a+num_t\n",
    "    longitud=len(secuencia)\n",
    "    porcentaje_at=(num_at/longitud)*100\n",
    "    return round(porcentaje_at,1)"
   ]
  },
  {
   "cell_type": "code",
   "execution_count": 128,
   "id": "bef870b1",
   "metadata": {
    "scrolled": true
   },
   "outputs": [
    {
     "data": {
      "text/plain": [
       "61.5"
      ]
     },
     "execution_count": 128,
     "metadata": {},
     "output_type": "execute_result"
    }
   ],
   "source": [
    "get_at_percentaje(dna)"
   ]
  },
  {
   "cell_type": "markdown",
   "id": "36a03b5f",
   "metadata": {},
   "source": [
    "##### ¿Y que devuelva el número de decimales que yo quiero?"
   ]
  },
  {
   "cell_type": "markdown",
   "id": "2c811d84",
   "metadata": {},
   "source": [
    "##### ¿Sabes poner un valor por defecto en un argumento?"
   ]
  },
  {
   "cell_type": "markdown",
   "id": "ab2c106c",
   "metadata": {},
   "source": [
    "##### ¿Qué pasa si no ponemos un argumento? ¿Sabrías hacer una función encapsulada?"
   ]
  },
  {
   "cell_type": "markdown",
   "id": "83af4b0f",
   "metadata": {},
   "source": [
    "##### Testea tu función original con assert"
   ]
  },
  {
   "cell_type": "code",
   "execution_count": 1,
   "id": "4709dfd0",
   "metadata": {},
   "outputs": [
    {
     "ename": "NameError",
     "evalue": "name 'get_at_percentaje' is not defined",
     "output_type": "error",
     "traceback": [
      "\u001b[1;31m---------------------------------------------------------------------------\u001b[0m",
      "\u001b[1;31mNameError\u001b[0m                                 Traceback (most recent call last)",
      "Cell \u001b[1;32mIn[1], line 2\u001b[0m\n\u001b[0;32m      1\u001b[0m \u001b[38;5;66;03m# Forzamos a tener un resultado con unos valores de secuencia\u001b[39;00m\n\u001b[1;32m----> 2\u001b[0m \u001b[38;5;28;01massert\u001b[39;00m get_at_percentaje(\u001b[38;5;124m'\u001b[39m\u001b[38;5;124mATGC\u001b[39m\u001b[38;5;124m'\u001b[39m)\u001b[38;5;241m==\u001b[39m\u001b[38;5;241m50\u001b[39m,\u001b[38;5;241m0\u001b[39m\n",
      "\u001b[1;31mNameError\u001b[0m: name 'get_at_percentaje' is not defined"
     ]
    }
   ],
   "source": [
    "# Forzamos a tener un resultado con unos valores de secuencia\n",
    "assert get_at_percentaje('ATGC')==50,0"
   ]
  }
 ],
 "metadata": {
  "kernelspec": {
   "display_name": "Python 3 (ipykernel)",
   "language": "python",
   "name": "python3"
  },
  "language_info": {
   "codemirror_mode": {
    "name": "ipython",
    "version": 3
   },
   "file_extension": ".py",
   "mimetype": "text/x-python",
   "name": "python",
   "nbconvert_exporter": "python",
   "pygments_lexer": "ipython3",
   "version": "3.11.4"
  }
 },
 "nbformat": 4,
 "nbformat_minor": 5
}
